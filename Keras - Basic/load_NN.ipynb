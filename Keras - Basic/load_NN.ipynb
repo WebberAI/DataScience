{
 "cells": [
  {
   "cell_type": "code",
   "execution_count": 4,
   "metadata": {},
   "outputs": [],
   "source": [
    "import numpy as np\n",
    "from tensorflow.keras.models import model_from_json\n",
    "\n",
    "data = open('clf_json.json','r')\n",
    "struture = data.read()\n",
    "data.close()\n",
    "\n",
    "clf = model_from_json(struture)\n",
    "clf.load_weights('clf_breast.h5')"
   ]
  },
  {
   "cell_type": "code",
   "execution_count": 5,
   "metadata": {},
   "outputs": [],
   "source": [
    "new = np.array([[15.80, 8.34, 118, 900, 0.10, 0.26, 0.08, 0.134, 0.178,\n",
    "                  0.20, 0.05, 1098, 0.87, 4500, 145.2, 0.005, 0.04, 0.05, 0.015,\n",
    "                  0.03, 0.007, 23.15, 16.64, 178.5, 2018, 0.14, 0.185,\n",
    "                  0.84, 158, 0.363]])"
   ]
  },
  {
   "cell_type": "code",
   "execution_count": 6,
   "metadata": {},
   "outputs": [
    {
     "name": "stdout",
     "output_type": "stream",
     "text": [
      "[[ True]]\n"
     ]
    }
   ],
   "source": [
    "predict = clf.predict(new)\n",
    "print(predict>0.5)"
   ]
  },
  {
   "cell_type": "code",
   "execution_count": 9,
   "metadata": {},
   "outputs": [
    {
     "name": "stdout",
     "output_type": "stream",
     "text": [
      "18/18 [==============================] - 1s 3ms/step - loss: 0.1611 - binary_accuracy: 0.9257\n",
      "[0.1662425994873047, 0.927943766117096]\n"
     ]
    }
   ],
   "source": [
    "import pandas as pd\n",
    "X = pd.read_csv('entradas_breast.csv')\n",
    "y = pd.read_csv('saidas_breast.csv')\n",
    "clf.compile(loss='binary_crossentropy', optimizer='adam', metrics=['binary_accuracy'])\n",
    "result =  clf.evaluate(X, y) #loss function and accuracy\n",
    "print(result)"
   ]
  },
  {
   "cell_type": "code",
   "execution_count": null,
   "metadata": {},
   "outputs": [],
   "source": []
  }
 ],
 "metadata": {
  "kernelspec": {
   "display_name": "Python 3",
   "language": "python",
   "name": "python3"
  },
  "language_info": {
   "codemirror_mode": {
    "name": "ipython",
    "version": 3
   },
   "file_extension": ".py",
   "mimetype": "text/x-python",
   "name": "python",
   "nbconvert_exporter": "python",
   "pygments_lexer": "ipython3",
   "version": "3.7.3"
  }
 },
 "nbformat": 4,
 "nbformat_minor": 4
}
