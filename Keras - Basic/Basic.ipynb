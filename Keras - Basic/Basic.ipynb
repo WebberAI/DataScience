{
 "cells": [
  {
   "cell_type": "code",
   "execution_count": 1,
   "metadata": {},
   "outputs": [],
   "source": [
    "from tensorflow.python.framework import ops\n",
    "ops.reset_default_graph()"
   ]
  },
  {
   "cell_type": "code",
   "execution_count": 2,
   "metadata": {},
   "outputs": [],
   "source": [
    "import pandas as pd\n",
    "X = pd.read_csv('entradas_breast.csv')\n",
    "y = pd.read_csv('saidas_breast.csv')"
   ]
  },
  {
   "cell_type": "code",
   "execution_count": 3,
   "metadata": {},
   "outputs": [],
   "source": [
    "from sklearn.model_selection import train_test_split\n",
    "X_train, X_test, y_train, y_test = train_test_split(X, y, test_size=0.25, random_state=0)"
   ]
  },
  {
   "cell_type": "code",
   "execution_count": 4,
   "metadata": {},
   "outputs": [],
   "source": [
    "import keras\n",
    "from tensorflow.keras.models import Sequential\n",
    "from tensorflow.keras.layers import Dense\n",
    "\n",
    "clf = Sequential()\n",
    "clf.add(Dense(units = 16, activation = 'relu', \n",
    "                        kernel_initializer = 'random_uniform', input_dim = 30))\n",
    "clf.add(Dense(units = 16, activation = 'relu', \n",
    "                        kernel_initializer = 'random_uniform'))\n",
    "clf.add(Dense(units = 1, activation = 'sigmoid'))"
   ]
  },
  {
   "cell_type": "code",
   "execution_count": 5,
   "metadata": {},
   "outputs": [],
   "source": [
    "optimizer = keras.optimizers.Adam(lr=0.001, decay=0.0001, clipvalue=0.5)\n",
    "\n",
    "clf.compile(optimizer = optimizer, loss = 'binary_crossentropy',\n",
    "                      metrics = ['binary_accuracy'])"
   ]
  },
  {
   "cell_type": "code",
   "execution_count": 6,
   "metadata": {},
   "outputs": [
    {
     "name": "stdout",
     "output_type": "stream",
     "text": [
      "Epoch 1/100\n",
      "43/43 [==============================] - 2s 5ms/step - loss: 0.7005 - binary_accuracy: 0.6742\n",
      "Epoch 2/100\n",
      "43/43 [==============================] - 0s 5ms/step - loss: 0.6241 - binary_accuracy: 0.7043\n",
      "Epoch 3/100\n",
      "43/43 [==============================] - 0s 7ms/step - loss: 0.5740 - binary_accuracy: 0.7318\n",
      "Epoch 4/100\n",
      "43/43 [==============================] - 0s 8ms/step - loss: 0.4777 - binary_accuracy: 0.7828A: 0s - loss: 0.4826 - binary_accuracy: 0.78\n",
      "Epoch 5/100\n",
      "43/43 [==============================] - 0s 6ms/step - loss: 0.6002 - binary_accuracy: 0.7775\n",
      "Epoch 6/100\n",
      "43/43 [==============================] - 0s 6ms/step - loss: 0.4160 - binary_accuracy: 0.8078\n",
      "Epoch 7/100\n",
      "43/43 [==============================] - 0s 5ms/step - loss: 0.4234 - binary_accuracy: 0.8095\n",
      "Epoch 8/100\n",
      "43/43 [==============================] - 0s 6ms/step - loss: 0.4334 - binary_accuracy: 0.8042\n",
      "Epoch 9/100\n",
      "43/43 [==============================] - 0s 6ms/step - loss: 0.3988 - binary_accuracy: 0.8252A: 0s - loss: 0.3555 - binary_accuracy: 0.\n",
      "Epoch 10/100\n",
      "43/43 [==============================] - 0s 7ms/step - loss: 0.3938 - binary_accuracy: 0.8686\n",
      "Epoch 11/100\n",
      "43/43 [==============================] - 0s 3ms/step - loss: 0.3446 - binary_accuracy: 0.8558\n",
      "Epoch 12/100\n",
      "43/43 [==============================] - 0s 3ms/step - loss: 0.4522 - binary_accuracy: 0.8474\n",
      "Epoch 13/100\n",
      "43/43 [==============================] - 0s 3ms/step - loss: 0.3815 - binary_accuracy: 0.8657\n",
      "Epoch 14/100\n",
      "43/43 [==============================] - 0s 3ms/step - loss: 0.5179 - binary_accuracy: 0.8052\n",
      "Epoch 15/100\n",
      "43/43 [==============================] - 0s 3ms/step - loss: 0.7127 - binary_accuracy: 0.8018\n",
      "Epoch 16/100\n",
      "43/43 [==============================] - 0s 5ms/step - loss: 0.4341 - binary_accuracy: 0.8223\n",
      "Epoch 17/100\n",
      "43/43 [==============================] - 0s 4ms/step - loss: 0.3504 - binary_accuracy: 0.8699\n",
      "Epoch 18/100\n",
      "43/43 [==============================] - 0s 4ms/step - loss: 0.3842 - binary_accuracy: 0.8646\n",
      "Epoch 19/100\n",
      "43/43 [==============================] - 0s 3ms/step - loss: 0.5698 - binary_accuracy: 0.8117\n",
      "Epoch 20/100\n",
      "43/43 [==============================] - 0s 6ms/step - loss: 1.1075 - binary_accuracy: 0.7859\n",
      "Epoch 21/100\n",
      "43/43 [==============================] - 0s 8ms/step - loss: 0.4456 - binary_accuracy: 0.8535\n",
      "Epoch 22/100\n",
      "43/43 [==============================] - 0s 6ms/step - loss: 0.6306 - binary_accuracy: 0.7397\n",
      "Epoch 23/100\n",
      "43/43 [==============================] - 0s 5ms/step - loss: 0.3811 - binary_accuracy: 0.8885\n",
      "Epoch 24/100\n",
      "43/43 [==============================] - 0s 5ms/step - loss: 0.3722 - binary_accuracy: 0.8901\n",
      "Epoch 25/100\n",
      "43/43 [==============================] - 0s 9ms/step - loss: 0.4458 - binary_accuracy: 0.7923\n",
      "Epoch 26/100\n",
      "43/43 [==============================] - 0s 6ms/step - loss: 0.4226 - binary_accuracy: 0.8597\n",
      "Epoch 27/100\n",
      "43/43 [==============================] - 0s 4ms/step - loss: 0.4079 - binary_accuracy: 0.8669\n",
      "Epoch 28/100\n",
      "43/43 [==============================] - 0s 5ms/step - loss: 0.3743 - binary_accuracy: 0.8478\n",
      "Epoch 29/100\n",
      "43/43 [==============================] - 0s 7ms/step - loss: 0.3923 - binary_accuracy: 0.8522A: 0s - loss: 0.3828 - binary_accuracy: 0.85\n",
      "Epoch 30/100\n",
      "43/43 [==============================] - 0s 5ms/step - loss: 0.5024 - binary_accuracy: 0.8347\n",
      "Epoch 31/100\n",
      "43/43 [==============================] - 0s 4ms/step - loss: 0.5494 - binary_accuracy: 0.8069\n",
      "Epoch 32/100\n",
      "43/43 [==============================] - 0s 4ms/step - loss: 0.4299 - binary_accuracy: 0.8660\n",
      "Epoch 33/100\n",
      "43/43 [==============================] - 0s 4ms/step - loss: 0.4379 - binary_accuracy: 0.8279\n",
      "Epoch 34/100\n",
      "43/43 [==============================] - 0s 6ms/step - loss: 0.5744 - binary_accuracy: 0.8446\n",
      "Epoch 35/100\n",
      "43/43 [==============================] - 0s 4ms/step - loss: 0.4184 - binary_accuracy: 0.8325\n",
      "Epoch 36/100\n",
      "43/43 [==============================] - 0s 5ms/step - loss: 0.3984 - binary_accuracy: 0.8390\n",
      "Epoch 37/100\n",
      "43/43 [==============================] - 0s 5ms/step - loss: 0.7927 - binary_accuracy: 0.8230\n",
      "Epoch 38/100\n",
      "43/43 [==============================] - 0s 4ms/step - loss: 0.4022 - binary_accuracy: 0.8395\n",
      "Epoch 39/100\n",
      "43/43 [==============================] - 0s 4ms/step - loss: 0.4268 - binary_accuracy: 0.8718\n",
      "Epoch 40/100\n",
      "43/43 [==============================] - 0s 4ms/step - loss: 0.4515 - binary_accuracy: 0.8648\n",
      "Epoch 41/100\n",
      "43/43 [==============================] - 0s 4ms/step - loss: 0.4469 - binary_accuracy: 0.8390\n",
      "Epoch 42/100\n",
      "43/43 [==============================] - 0s 4ms/step - loss: 0.4680 - binary_accuracy: 0.8605\n",
      "Epoch 43/100\n",
      "43/43 [==============================] - 0s 5ms/step - loss: 0.6653 - binary_accuracy: 0.8439\n",
      "Epoch 44/100\n",
      "43/43 [==============================] - 0s 4ms/step - loss: 0.4361 - binary_accuracy: 0.8463\n",
      "Epoch 45/100\n",
      "43/43 [==============================] - 0s 5ms/step - loss: 0.3098 - binary_accuracy: 0.8710\n",
      "Epoch 46/100\n",
      "43/43 [==============================] - 0s 4ms/step - loss: 0.6675 - binary_accuracy: 0.7889\n",
      "Epoch 47/100\n",
      "43/43 [==============================] - 0s 5ms/step - loss: 0.8689 - binary_accuracy: 0.8107\n",
      "Epoch 48/100\n",
      "43/43 [==============================] - 0s 6ms/step - loss: 0.4126 - binary_accuracy: 0.8446\n",
      "Epoch 49/100\n",
      "43/43 [==============================] - 0s 6ms/step - loss: 0.4590 - binary_accuracy: 0.8199\n",
      "Epoch 50/100\n",
      "43/43 [==============================] - 0s 4ms/step - loss: 0.4616 - binary_accuracy: 0.8155\n",
      "Epoch 51/100\n",
      "43/43 [==============================] - 0s 5ms/step - loss: 0.4840 - binary_accuracy: 0.8360\n",
      "Epoch 52/100\n",
      "43/43 [==============================] - 0s 4ms/step - loss: 0.3141 - binary_accuracy: 0.8851\n",
      "Epoch 53/100\n",
      "43/43 [==============================] - ETA: 0s - loss: 0.4012 - binary_accuracy: 0.856 - 0s 3ms/step - loss: 0.4049 - binary_accuracy: 0.8551\n",
      "Epoch 54/100\n",
      "43/43 [==============================] - 0s 3ms/step - loss: 0.5189 - binary_accuracy: 0.8006\n",
      "Epoch 55/100\n",
      "43/43 [==============================] - 0s 4ms/step - loss: 0.3256 - binary_accuracy: 0.8998\n",
      "Epoch 56/100\n",
      "43/43 [==============================] - 0s 4ms/step - loss: 0.4329 - binary_accuracy: 0.8546\n",
      "Epoch 57/100\n",
      "43/43 [==============================] - 0s 8ms/step - loss: 0.3478 - binary_accuracy: 0.8920\n",
      "Epoch 58/100\n",
      "43/43 [==============================] - 0s 6ms/step - loss: 0.4791 - binary_accuracy: 0.8697\n",
      "Epoch 59/100\n",
      "43/43 [==============================] - 0s 5ms/step - loss: 0.4115 - binary_accuracy: 0.8660A: 0s - loss: 0.3916 - binary_accuracy: 0.8\n",
      "Epoch 60/100\n",
      "43/43 [==============================] - 0s 4ms/step - loss: 0.4069 - binary_accuracy: 0.8632\n",
      "Epoch 61/100\n",
      "43/43 [==============================] - 0s 3ms/step - loss: 0.5114 - binary_accuracy: 0.8744\n",
      "Epoch 62/100\n",
      "43/43 [==============================] - 0s 4ms/step - loss: 0.3111 - binary_accuracy: 0.8950\n",
      "Epoch 63/100\n",
      "43/43 [==============================] - 0s 3ms/step - loss: 0.3324 - binary_accuracy: 0.9072\n",
      "Epoch 64/100\n",
      "43/43 [==============================] - 0s 4ms/step - loss: 0.3285 - binary_accuracy: 0.8812\n",
      "Epoch 65/100\n",
      "43/43 [==============================] - 0s 5ms/step - loss: 0.3240 - binary_accuracy: 0.9095\n",
      "Epoch 66/100\n",
      "43/43 [==============================] - 0s 5ms/step - loss: 0.4502 - binary_accuracy: 0.8445\n",
      "Epoch 67/100\n",
      "43/43 [==============================] - 0s 6ms/step - loss: 0.3548 - binary_accuracy: 0.8764\n",
      "Epoch 68/100\n",
      "43/43 [==============================] - 0s 6ms/step - loss: 0.3545 - binary_accuracy: 0.8915\n",
      "Epoch 69/100\n",
      "43/43 [==============================] - 0s 6ms/step - loss: 0.3187 - binary_accuracy: 0.9049\n",
      "Epoch 70/100\n",
      "43/43 [==============================] - 0s 7ms/step - loss: 0.4886 - binary_accuracy: 0.8484\n",
      "Epoch 71/100\n",
      "43/43 [==============================] - 0s 5ms/step - loss: 0.4449 - binary_accuracy: 0.8659\n",
      "Epoch 72/100\n",
      "43/43 [==============================] - 0s 4ms/step - loss: 0.4510 - binary_accuracy: 0.8717\n",
      "Epoch 73/100\n",
      "43/43 [==============================] - 0s 5ms/step - loss: 0.4000 - binary_accuracy: 0.8973\n",
      "Epoch 74/100\n",
      "43/43 [==============================] - 0s 4ms/step - loss: 0.3911 - binary_accuracy: 0.8528\n",
      "Epoch 75/100\n"
     ]
    },
    {
     "name": "stdout",
     "output_type": "stream",
     "text": [
      "43/43 [==============================] - 0s 4ms/step - loss: 0.3697 - binary_accuracy: 0.9003\n",
      "Epoch 76/100\n",
      "43/43 [==============================] - 0s 3ms/step - loss: 0.4932 - binary_accuracy: 0.8557\n",
      "Epoch 77/100\n",
      "43/43 [==============================] - 0s 4ms/step - loss: 0.6553 - binary_accuracy: 0.8372\n",
      "Epoch 78/100\n",
      "43/43 [==============================] - 0s 5ms/step - loss: 0.7113 - binary_accuracy: 0.8373\n",
      "Epoch 79/100\n",
      "43/43 [==============================] - ETA: 0s - loss: 0.5254 - binary_accuracy: 0.829 - 0s 4ms/step - loss: 0.5250 - binary_accuracy: 0.8302\n",
      "Epoch 80/100\n",
      "43/43 [==============================] - 0s 3ms/step - loss: 0.4244 - binary_accuracy: 0.8854\n",
      "Epoch 81/100\n",
      "43/43 [==============================] - 0s 3ms/step - loss: 0.3767 - binary_accuracy: 0.8684\n",
      "Epoch 82/100\n",
      "43/43 [==============================] - 0s 4ms/step - loss: 0.5324 - binary_accuracy: 0.8302\n",
      "Epoch 83/100\n",
      "43/43 [==============================] - 0s 4ms/step - loss: 0.4315 - binary_accuracy: 0.8625\n",
      "Epoch 84/100\n",
      "43/43 [==============================] - 0s 5ms/step - loss: 0.4950 - binary_accuracy: 0.8643\n",
      "Epoch 85/100\n",
      "43/43 [==============================] - ETA: 0s - loss: 0.4508 - binary_accuracy: 0.868 - 0s 4ms/step - loss: 0.4526 - binary_accuracy: 0.8684\n",
      "Epoch 86/100\n",
      "43/43 [==============================] - 0s 6ms/step - loss: 0.4633 - binary_accuracy: 0.8452\n",
      "Epoch 87/100\n",
      "43/43 [==============================] - 0s 3ms/step - loss: 0.6238 - binary_accuracy: 0.8571\n",
      "Epoch 88/100\n",
      "43/43 [==============================] - 0s 4ms/step - loss: 0.3981 - binary_accuracy: 0.8501\n",
      "Epoch 89/100\n",
      "43/43 [==============================] - 0s 4ms/step - loss: 0.3653 - binary_accuracy: 0.8915\n",
      "Epoch 90/100\n",
      "43/43 [==============================] - 0s 5ms/step - loss: 0.5199 - binary_accuracy: 0.8427\n",
      "Epoch 91/100\n",
      "43/43 [==============================] - 0s 4ms/step - loss: 0.5060 - binary_accuracy: 0.8678\n",
      "Epoch 92/100\n",
      "43/43 [==============================] - 0s 4ms/step - loss: 0.4855 - binary_accuracy: 0.8893\n",
      "Epoch 93/100\n",
      "43/43 [==============================] - 0s 4ms/step - loss: 0.3653 - binary_accuracy: 0.8919\n",
      "Epoch 94/100\n",
      "43/43 [==============================] - 0s 4ms/step - loss: 0.4111 - binary_accuracy: 0.8877\n",
      "Epoch 95/100\n",
      "43/43 [==============================] - 0s 6ms/step - loss: 0.2850 - binary_accuracy: 0.9182\n",
      "Epoch 96/100\n",
      "43/43 [==============================] - 0s 4ms/step - loss: 0.4696 - binary_accuracy: 0.8662\n",
      "Epoch 97/100\n",
      "43/43 [==============================] - 0s 4ms/step - loss: 0.4347 - binary_accuracy: 0.8846\n",
      "Epoch 98/100\n",
      "43/43 [==============================] - 0s 3ms/step - loss: 0.5302 - binary_accuracy: 0.8453\n",
      "Epoch 99/100\n",
      "43/43 [==============================] - 0s 4ms/step - loss: 0.5931 - binary_accuracy: 0.8403\n",
      "Epoch 100/100\n",
      "43/43 [==============================] - 0s 4ms/step - loss: 0.6374 - binary_accuracy: 0.8315\n"
     ]
    },
    {
     "data": {
      "text/plain": [
       "<tensorflow.python.keras.callbacks.History at 0x26a6fbe36a0>"
      ]
     },
     "execution_count": 6,
     "metadata": {},
     "output_type": "execute_result"
    }
   ],
   "source": [
    "clf.fit(X_train, y_train, batch_size = 10, epochs = 100)"
   ]
  },
  {
   "cell_type": "code",
   "execution_count": 17,
   "metadata": {},
   "outputs": [
    {
     "name": "stdout",
     "output_type": "stream",
     "text": [
      "[[-5.86864492e-03  3.57548967e-02 -6.09929003e-02 -8.76850039e-02\n",
      "   1.56186521e-04  3.16989087e-02  1.49446294e-01  7.90838227e-02\n",
      "   3.19243185e-02  2.96851434e-02 -8.10683444e-02 -1.51735827e-01\n",
      "   2.98566986e-02  1.65714338e-01  1.75431427e-02  3.25473994e-02]\n",
      " [-4.02005874e-02 -1.42517701e-01  1.45316437e-01 -2.10886389e-01\n",
      "  -2.94274092e-03 -2.42761225e-02 -6.27799630e-02 -8.74726772e-02\n",
      "  -2.68060379e-02  6.61963457e-03  1.07767478e-01 -1.37497529e-01\n",
      "   2.99366359e-02 -7.74107724e-02  9.33132321e-02  5.22432709e-03]\n",
      " [-1.83582604e-02 -1.60673056e-02  9.21284035e-03  5.06762564e-02\n",
      "  -4.60833684e-02 -4.93239164e-02 -6.12146966e-02 -3.78539003e-02\n",
      "   6.43353956e-03 -3.86484899e-02  3.66116576e-02  4.15217727e-02\n",
      "  -5.08024096e-02  3.85502353e-02  2.41598370e-03 -1.84603892e-02]\n",
      " [-1.91207025e-02  5.29234670e-02  5.22466414e-02 -4.44851220e-02\n",
      "   1.29476935e-03 -2.14330610e-02  2.48771161e-02 -2.82024927e-02\n",
      "  -2.28063427e-02 -3.84469656e-03 -3.28242891e-02 -3.25823463e-02\n",
      "  -1.40095642e-02  2.94096619e-02 -5.00137312e-03 -1.36875873e-02]\n",
      " [ 5.07041859e-03  1.26441969e-02 -1.65921822e-01 -7.61101767e-02\n",
      "   4.32443954e-02  2.52472199e-02  8.48955661e-02 -3.82942408e-02\n",
      "   3.02120838e-02 -3.54450336e-03 -3.36997770e-02 -4.49141636e-02\n",
      "  -6.61704177e-03  1.12113550e-01  1.52233941e-02 -4.41208424e-04]\n",
      " [ 8.23099166e-03  4.04286459e-02  5.17797321e-02  1.53135031e-01\n",
      "   7.25819916e-03 -1.63841508e-02 -6.48211762e-02 -2.72191651e-02\n",
      "  -3.67549993e-02 -3.81338373e-02 -2.03874394e-01  4.77375500e-02\n",
      "  -4.85442430e-02  1.67022517e-04 -9.34561789e-02 -2.66169999e-02]\n",
      " [ 1.03886519e-02 -6.82389811e-02  3.92798185e-02  9.71523002e-02\n",
      "  -6.12522289e-03 -3.21672149e-02  3.82036306e-02  5.90523034e-02\n",
      "  -5.57834432e-02 -6.73451498e-02  5.19724227e-02  2.02642620e-01\n",
      "  -2.32737605e-02 -6.11899793e-02 -9.16958228e-03 -4.19523306e-02]\n",
      " [-8.99122749e-03 -1.78617295e-02  1.08935699e-01  1.74027234e-01\n",
      "  -2.71940473e-02 -2.97602434e-02 -6.46515787e-02 -9.39761326e-02\n",
      "   3.07064168e-02 -1.54038919e-02  4.04830724e-02  3.67861502e-02\n",
      "  -2.44618044e-03 -1.92052230e-01 -1.45990802e-02 -3.40061001e-02]\n",
      " [-3.79968360e-02 -1.84039865e-02 -1.53443575e-01 -3.31526577e-01\n",
      "  -3.92174721e-03  2.72731893e-02  9.25003588e-02  4.28516455e-02\n",
      "   9.24410007e-04 -3.39572206e-02 -8.23219344e-02 -6.94371238e-02\n",
      "  -4.74992841e-02  1.56291366e-01 -2.81084627e-01  2.38461960e-02]\n",
      " [-1.56779140e-02 -5.36007322e-02  4.77318168e-02  9.22121853e-03\n",
      "  -2.81326771e-02  2.35740207e-02  9.49829444e-03 -7.81716630e-02\n",
      "   2.02688407e-02 -2.04495322e-02 -2.84150895e-02 -4.82015125e-02\n",
      "   3.58152650e-02 -8.57007354e-02 -2.80588157e-02  2.14879885e-02]\n",
      " [-1.63475014e-02 -1.37006752e-02  4.49364185e-02 -2.05665112e-01\n",
      "  -1.24457702e-02  2.70128176e-02 -3.05506550e-02 -1.04422309e-01\n",
      "  -3.22857648e-02 -2.39295568e-02 -2.45211311e-02 -9.27063152e-02\n",
      "  -2.74467990e-02  2.45357361e-02  3.57974656e-02 -5.82122579e-02]\n",
      " [-5.18319150e-03 -1.00202002e-02 -8.21258128e-02 -6.50397614e-02\n",
      "  -4.13552746e-02 -1.05321780e-02  7.14465454e-02 -4.77475747e-02\n",
      "   4.70935227e-03  2.62406953e-02 -6.70992285e-02 -1.50504718e-02\n",
      "   1.45859467e-02 -1.34200379e-01  1.10231386e-02 -2.82204170e-02]\n",
      " [-7.45964609e-03  1.87250450e-02  1.00833565e-01  5.50513975e-02\n",
      "   2.31670216e-03  2.51911320e-02 -9.00293887e-02 -1.37606218e-01\n",
      "   3.73913348e-02 -2.24986784e-02 -4.66796868e-02 -1.82360411e-02\n",
      "  -4.87631559e-03 -1.33120462e-01  6.88962862e-02 -4.81170416e-03]\n",
      " [ 4.69375439e-02  2.55161095e-02  2.83779725e-02  2.28252802e-02\n",
      "  -2.62261517e-02 -2.57688146e-02 -3.52660120e-02 -2.58782320e-02\n",
      "   2.67771240e-02 -1.39348581e-03  1.03720194e-02 -6.91339821e-02\n",
      "   1.92181859e-03  4.37241644e-02  2.09803376e-02  2.50664130e-02]\n",
      " [-3.95782627e-02 -3.54938172e-02  2.48921048e-02  4.62916270e-02\n",
      "  -4.55948375e-02 -4.60863784e-02 -3.55877466e-02 -9.82636772e-03\n",
      "  -3.47444378e-02 -4.96956408e-02  5.34828901e-02  8.60298946e-02\n",
      "  -4.91404608e-02 -1.18295923e-02  4.54559848e-02 -4.55722325e-02]\n",
      " [ 1.33038573e-02  3.47916735e-03  2.00872160e-02 -1.72706440e-01\n",
      "  -3.46807018e-02 -2.72293249e-03  2.59642396e-02 -1.79525539e-02\n",
      "  -3.93436998e-02 -2.79589966e-02  3.02307718e-02 -1.12713695e-01\n",
      "  -4.11638804e-02  2.26644296e-02 -3.02842092e-02  2.18177978e-02]]\n",
      "----------------------------------\n",
      "[-0.06328519  0.03577284 -0.27745125  0.15747705  0.         -0.00605619\n",
      " -0.03670618  0.10533156 -0.00325532 -0.02627767  0.0152597   0.04705856\n",
      " -0.00997452  0.05004917 -0.23592915 -0.01466334]\n"
     ]
    }
   ],
   "source": [
    "weights0 = clf.layers[0].get_weights()\n",
    "#print(weights0)\n",
    "#print(len(weights0))\n",
    "weights1 = clf.layers[1].get_weights()\n",
    "print(weights1[0]) # weights\n",
    "print('----------------------------------')\n",
    "print(weights1[1]) #bias\n",
    "weights2 = clf.layers[2].get_weights()"
   ]
  },
  {
   "cell_type": "code",
   "execution_count": 8,
   "metadata": {},
   "outputs": [],
   "source": [
    "predicts = clf.predict(X_test)\n",
    "predicts = (predicts > 0.5)\n",
    "#predicts"
   ]
  },
  {
   "cell_type": "code",
   "execution_count": 9,
   "metadata": {},
   "outputs": [
    {
     "data": {
      "text/plain": [
       "array([[41, 12],\n",
       "       [20, 70]], dtype=int64)"
      ]
     },
     "execution_count": 9,
     "metadata": {},
     "output_type": "execute_result"
    }
   ],
   "source": [
    "from sklearn.metrics import confusion_matrix, accuracy_score\n",
    "matrix = confusion_matrix(y_test, predicts)\n",
    "matrix"
   ]
  },
  {
   "cell_type": "code",
   "execution_count": 10,
   "metadata": {},
   "outputs": [
    {
     "data": {
      "text/plain": [
       "0.7762237762237763"
      ]
     },
     "execution_count": 10,
     "metadata": {},
     "output_type": "execute_result"
    }
   ],
   "source": [
    "accuracy = accuracy_score(y_test, predicts)\n",
    "accuracy"
   ]
  },
  {
   "cell_type": "code",
   "execution_count": 11,
   "metadata": {},
   "outputs": [
    {
     "name": "stdout",
     "output_type": "stream",
     "text": [
      "5/5 [==============================] - 0s 4ms/step - loss: 0.8259 - binary_accuracy: 0.7762\n"
     ]
    },
    {
     "data": {
      "text/plain": [
       "[0.8259243369102478, 0.7762237787246704]"
      ]
     },
     "execution_count": 11,
     "metadata": {},
     "output_type": "execute_result"
    }
   ],
   "source": [
    "result = clf.evaluate(X_test, y_test)\n",
    "result #loss and accuracy"
   ]
  },
  {
   "cell_type": "code",
   "execution_count": null,
   "metadata": {},
   "outputs": [],
   "source": []
  }
 ],
 "metadata": {
  "kernelspec": {
   "display_name": "Python 3",
   "language": "python",
   "name": "python3"
  },
  "language_info": {
   "codemirror_mode": {
    "name": "ipython",
    "version": 3
   },
   "file_extension": ".py",
   "mimetype": "text/x-python",
   "name": "python",
   "nbconvert_exporter": "python",
   "pygments_lexer": "ipython3",
   "version": "3.7.3"
  }
 },
 "nbformat": 4,
 "nbformat_minor": 4
}
