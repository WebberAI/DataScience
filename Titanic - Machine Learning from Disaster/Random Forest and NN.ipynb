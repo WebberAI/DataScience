{
 "cells": [
  {
   "cell_type": "markdown",
   "metadata": {},
   "source": [
    "# Brief Introduction\n",
    "Titanic was a British passenger liner operated by the White Star Line that sank in the North Atlantic Ocean in the early morning hours of 15 April 1912, after striking an iceberg during her maiden voyage from Southampton to New York City. Of the estimated 2,224 passengers and crew aboard, more than 1,500 died, making the sinking one of modern history's deadliest peacetime commercial marine disasters. Though there were about 2,224 passengers and crew members, we are given data of about 1,300 passengers. Out of these 1,300 passengers details, about 900 data is used for training purpose and remaining 400 is used for test purpose. In this competition we are given about 400 test data with missing survived column and we have to use different machine learning algorithms to predict whether the passengers in the test data survived or not. Both training and test data are not clean(contains lots of missing values), so main goal of this competition is to clean the data and build the model with best accuracy."
   ]
  },
  {
   "cell_type": "code",
   "execution_count": 1,
   "metadata": {},
   "outputs": [
    {
     "data": {
      "text/html": [
       "<div>\n",
       "<style scoped>\n",
       "    .dataframe tbody tr th:only-of-type {\n",
       "        vertical-align: middle;\n",
       "    }\n",
       "\n",
       "    .dataframe tbody tr th {\n",
       "        vertical-align: top;\n",
       "    }\n",
       "\n",
       "    .dataframe thead th {\n",
       "        text-align: right;\n",
       "    }\n",
       "</style>\n",
       "<table border=\"1\" class=\"dataframe\">\n",
       "  <thead>\n",
       "    <tr style=\"text-align: right;\">\n",
       "      <th></th>\n",
       "      <th>PassengerId</th>\n",
       "      <th>Survived</th>\n",
       "      <th>Pclass</th>\n",
       "      <th>Name</th>\n",
       "      <th>Sex</th>\n",
       "      <th>Age</th>\n",
       "      <th>SibSp</th>\n",
       "      <th>Parch</th>\n",
       "      <th>Ticket</th>\n",
       "      <th>Fare</th>\n",
       "      <th>Cabin</th>\n",
       "      <th>Embarked</th>\n",
       "    </tr>\n",
       "  </thead>\n",
       "  <tbody>\n",
       "    <tr>\n",
       "      <th>0</th>\n",
       "      <td>1</td>\n",
       "      <td>0</td>\n",
       "      <td>3</td>\n",
       "      <td>Braund, Mr. Owen Harris</td>\n",
       "      <td>male</td>\n",
       "      <td>22.0</td>\n",
       "      <td>1</td>\n",
       "      <td>0</td>\n",
       "      <td>A/5 21171</td>\n",
       "      <td>7.2500</td>\n",
       "      <td>NaN</td>\n",
       "      <td>S</td>\n",
       "    </tr>\n",
       "    <tr>\n",
       "      <th>1</th>\n",
       "      <td>2</td>\n",
       "      <td>1</td>\n",
       "      <td>1</td>\n",
       "      <td>Cumings, Mrs. John Bradley (Florence Briggs Th...</td>\n",
       "      <td>female</td>\n",
       "      <td>38.0</td>\n",
       "      <td>1</td>\n",
       "      <td>0</td>\n",
       "      <td>PC 17599</td>\n",
       "      <td>71.2833</td>\n",
       "      <td>C85</td>\n",
       "      <td>C</td>\n",
       "    </tr>\n",
       "    <tr>\n",
       "      <th>2</th>\n",
       "      <td>3</td>\n",
       "      <td>1</td>\n",
       "      <td>3</td>\n",
       "      <td>Heikkinen, Miss. Laina</td>\n",
       "      <td>female</td>\n",
       "      <td>26.0</td>\n",
       "      <td>0</td>\n",
       "      <td>0</td>\n",
       "      <td>STON/O2. 3101282</td>\n",
       "      <td>7.9250</td>\n",
       "      <td>NaN</td>\n",
       "      <td>S</td>\n",
       "    </tr>\n",
       "    <tr>\n",
       "      <th>3</th>\n",
       "      <td>4</td>\n",
       "      <td>1</td>\n",
       "      <td>1</td>\n",
       "      <td>Futrelle, Mrs. Jacques Heath (Lily May Peel)</td>\n",
       "      <td>female</td>\n",
       "      <td>35.0</td>\n",
       "      <td>1</td>\n",
       "      <td>0</td>\n",
       "      <td>113803</td>\n",
       "      <td>53.1000</td>\n",
       "      <td>C123</td>\n",
       "      <td>S</td>\n",
       "    </tr>\n",
       "    <tr>\n",
       "      <th>4</th>\n",
       "      <td>5</td>\n",
       "      <td>0</td>\n",
       "      <td>3</td>\n",
       "      <td>Allen, Mr. William Henry</td>\n",
       "      <td>male</td>\n",
       "      <td>35.0</td>\n",
       "      <td>0</td>\n",
       "      <td>0</td>\n",
       "      <td>373450</td>\n",
       "      <td>8.0500</td>\n",
       "      <td>NaN</td>\n",
       "      <td>S</td>\n",
       "    </tr>\n",
       "  </tbody>\n",
       "</table>\n",
       "</div>"
      ],
      "text/plain": [
       "   PassengerId  Survived  Pclass  \\\n",
       "0            1         0       3   \n",
       "1            2         1       1   \n",
       "2            3         1       3   \n",
       "3            4         1       1   \n",
       "4            5         0       3   \n",
       "\n",
       "                                                Name     Sex   Age  SibSp  \\\n",
       "0                            Braund, Mr. Owen Harris    male  22.0      1   \n",
       "1  Cumings, Mrs. John Bradley (Florence Briggs Th...  female  38.0      1   \n",
       "2                             Heikkinen, Miss. Laina  female  26.0      0   \n",
       "3       Futrelle, Mrs. Jacques Heath (Lily May Peel)  female  35.0      1   \n",
       "4                           Allen, Mr. William Henry    male  35.0      0   \n",
       "\n",
       "   Parch            Ticket     Fare Cabin Embarked  \n",
       "0      0         A/5 21171   7.2500   NaN        S  \n",
       "1      0          PC 17599  71.2833   C85        C  \n",
       "2      0  STON/O2. 3101282   7.9250   NaN        S  \n",
       "3      0            113803  53.1000  C123        S  \n",
       "4      0            373450   8.0500   NaN        S  "
      ]
     },
     "execution_count": 1,
     "metadata": {},
     "output_type": "execute_result"
    }
   ],
   "source": [
    "import pandas as pd\n",
    "train_db = pd.read_csv('train.csv')\n",
    "train_db.head()"
   ]
  },
  {
   "cell_type": "markdown",
   "metadata": {},
   "source": [
    "# Data Dictionary\n",
    "Survival : 0 = No, 1 = Yes\n",
    "\n",
    "Pclass : A proxy for socio-economic status (SES) 1st = Upper 2nd = Middle 3rd = Lower\n",
    "\n",
    "sibsp : The # of siblings / spouses aboard the Titanic Sibling = brother, sister, stepbrother, stepsister Spouse =\n",
    "\n",
    "husband, wife (mistresses and fiancés were ignored)\n",
    "\n",
    "parch : The # of parents / children aboard the Titanic Parent = mother, father Child = daughter, son, stepdaughter, stepson Some children travelled only with a nanny, therefore parch=0 for them.\n",
    "\n",
    "Ticket : Ticket number\n",
    "\n",
    "Fare : Passenger fare\n",
    "\n",
    "Cabin : Cabin number embarked\n",
    "\n",
    "Port of Embarkation: C = Cherbourg, Q = Queenstown, S = Southampton\n",
    "\n",
    "Name, Sex , Age are self-explanatory"
   ]
  },
  {
   "cell_type": "code",
   "execution_count": 2,
   "metadata": {},
   "outputs": [
    {
     "data": {
      "text/html": [
       "<div>\n",
       "<style scoped>\n",
       "    .dataframe tbody tr th:only-of-type {\n",
       "        vertical-align: middle;\n",
       "    }\n",
       "\n",
       "    .dataframe tbody tr th {\n",
       "        vertical-align: top;\n",
       "    }\n",
       "\n",
       "    .dataframe thead th {\n",
       "        text-align: right;\n",
       "    }\n",
       "</style>\n",
       "<table border=\"1\" class=\"dataframe\">\n",
       "  <thead>\n",
       "    <tr style=\"text-align: right;\">\n",
       "      <th></th>\n",
       "      <th>PassengerId</th>\n",
       "      <th>Pclass</th>\n",
       "      <th>Name</th>\n",
       "      <th>Sex</th>\n",
       "      <th>Age</th>\n",
       "      <th>SibSp</th>\n",
       "      <th>Parch</th>\n",
       "      <th>Ticket</th>\n",
       "      <th>Fare</th>\n",
       "      <th>Cabin</th>\n",
       "      <th>Embarked</th>\n",
       "    </tr>\n",
       "  </thead>\n",
       "  <tbody>\n",
       "    <tr>\n",
       "      <th>0</th>\n",
       "      <td>892</td>\n",
       "      <td>3</td>\n",
       "      <td>Kelly, Mr. James</td>\n",
       "      <td>male</td>\n",
       "      <td>34.5</td>\n",
       "      <td>0</td>\n",
       "      <td>0</td>\n",
       "      <td>330911</td>\n",
       "      <td>7.8292</td>\n",
       "      <td>NaN</td>\n",
       "      <td>Q</td>\n",
       "    </tr>\n",
       "    <tr>\n",
       "      <th>1</th>\n",
       "      <td>893</td>\n",
       "      <td>3</td>\n",
       "      <td>Wilkes, Mrs. James (Ellen Needs)</td>\n",
       "      <td>female</td>\n",
       "      <td>47.0</td>\n",
       "      <td>1</td>\n",
       "      <td>0</td>\n",
       "      <td>363272</td>\n",
       "      <td>7.0000</td>\n",
       "      <td>NaN</td>\n",
       "      <td>S</td>\n",
       "    </tr>\n",
       "    <tr>\n",
       "      <th>2</th>\n",
       "      <td>894</td>\n",
       "      <td>2</td>\n",
       "      <td>Myles, Mr. Thomas Francis</td>\n",
       "      <td>male</td>\n",
       "      <td>62.0</td>\n",
       "      <td>0</td>\n",
       "      <td>0</td>\n",
       "      <td>240276</td>\n",
       "      <td>9.6875</td>\n",
       "      <td>NaN</td>\n",
       "      <td>Q</td>\n",
       "    </tr>\n",
       "    <tr>\n",
       "      <th>3</th>\n",
       "      <td>895</td>\n",
       "      <td>3</td>\n",
       "      <td>Wirz, Mr. Albert</td>\n",
       "      <td>male</td>\n",
       "      <td>27.0</td>\n",
       "      <td>0</td>\n",
       "      <td>0</td>\n",
       "      <td>315154</td>\n",
       "      <td>8.6625</td>\n",
       "      <td>NaN</td>\n",
       "      <td>S</td>\n",
       "    </tr>\n",
       "    <tr>\n",
       "      <th>4</th>\n",
       "      <td>896</td>\n",
       "      <td>3</td>\n",
       "      <td>Hirvonen, Mrs. Alexander (Helga E Lindqvist)</td>\n",
       "      <td>female</td>\n",
       "      <td>22.0</td>\n",
       "      <td>1</td>\n",
       "      <td>1</td>\n",
       "      <td>3101298</td>\n",
       "      <td>12.2875</td>\n",
       "      <td>NaN</td>\n",
       "      <td>S</td>\n",
       "    </tr>\n",
       "  </tbody>\n",
       "</table>\n",
       "</div>"
      ],
      "text/plain": [
       "   PassengerId  Pclass                                          Name     Sex  \\\n",
       "0          892       3                              Kelly, Mr. James    male   \n",
       "1          893       3              Wilkes, Mrs. James (Ellen Needs)  female   \n",
       "2          894       2                     Myles, Mr. Thomas Francis    male   \n",
       "3          895       3                              Wirz, Mr. Albert    male   \n",
       "4          896       3  Hirvonen, Mrs. Alexander (Helga E Lindqvist)  female   \n",
       "\n",
       "    Age  SibSp  Parch   Ticket     Fare Cabin Embarked  \n",
       "0  34.5      0      0   330911   7.8292   NaN        Q  \n",
       "1  47.0      1      0   363272   7.0000   NaN        S  \n",
       "2  62.0      0      0   240276   9.6875   NaN        Q  \n",
       "3  27.0      0      0   315154   8.6625   NaN        S  \n",
       "4  22.0      1      1  3101298  12.2875   NaN        S  "
      ]
     },
     "execution_count": 2,
     "metadata": {},
     "output_type": "execute_result"
    }
   ],
   "source": [
    "test_db = pd.read_csv('test.csv')\n",
    "p_id = test_db.iloc[:,0]\n",
    "test_db.head()"
   ]
  },
  {
   "cell_type": "code",
   "execution_count": 4,
   "metadata": {},
   "outputs": [
    {
     "data": {
      "image/png": "[encoded data removed]",
      "text/plain": [
       "<Figure size 432x288 with 1 Axes>"
      ]
     },
     "metadata": {
      "needs_background": "light"
     },
     "output_type": "display_data"
    }
   ],
   "source": [
    "#Visualizing the Number of survived passenger\n",
    "import seaborn as sns\n",
    "import matplotlib.pyplot as plt\n",
    "sns.countplot('Survived', data = train_db)\n",
    "plt.show()\n",
    "# here we plot only for train_data as we donot have Survived column for test data,\n",
    "# This plot show that around 600 people died while around 300 survived"
   ]
  },
  {
   "cell_type": "code",
   "execution_count": 5,
   "metadata": {},
   "outputs": [
    {
     "data": {
      "text/plain": [
       "<AxesSubplot:xlabel='Survived', ylabel='count'>"
      ]
     },
     "execution_count": 5,
     "metadata": {},
     "output_type": "execute_result"
    },
    {
     "data": {
      "image/png": "[encoded data removed]",
      "text/plain": [
       "<Figure size 360x360 with 1 Axes>"
      ]
     },
     "metadata": {
      "needs_background": "light"
     },
     "output_type": "display_data"
    }
   ],
   "source": [
    "import matplotlib.pyplot as plt\n",
    "import seaborn as sns\n",
    "\n",
    "plt.figure(figsize=(5,5))\n",
    "sns.set_style('darkgrid')\n",
    "sns.countplot(x='Survived',hue='Embarked',data=train_db)"
   ]
  },
  {
   "cell_type": "code",
   "execution_count": 6,
   "metadata": {},
   "outputs": [
    {
     "data": {
      "text/plain": [
       "[]"
      ]
     },
     "execution_count": 6,
     "metadata": {},
     "output_type": "execute_result"
    },
    {
     "data": {
      "image/png": "[encoded data removed]",
      "text/plain": [
       "<Figure size 432x288 with 1 Axes>"
      ]
     },
     "metadata": {},
     "output_type": "display_data"
    }
   ],
   "source": [
    "#visualizing whether gender affect the survival rate or not\n",
    "sns.countplot('Survived', hue = 'Sex', data = train_db)\n",
    "plt.plot()\n",
    "# the graph clearly show that death rate for male passenger is way more than that for female"
   ]
  },
  {
   "cell_type": "code",
   "execution_count": 7,
   "metadata": {},
   "outputs": [
    {
     "data": {
      "image/png": "[encoded data removed]",
      "text/plain": [
       "<Figure size 432x288 with 1 Axes>"
      ]
     },
     "metadata": {},
     "output_type": "display_data"
    }
   ],
   "source": [
    "# visualizing whether pclass affect the survial rate or not\n",
    "sns.countplot(\"Survived\", hue = 'Pclass', data = train_db)\n",
    "plt.show()\n",
    "# this graph clearly show that people in third class are more likely to die "
   ]
  },
  {
   "cell_type": "code",
   "execution_count": 8,
   "metadata": {},
   "outputs": [
    {
     "data": {
      "image/png": "[encoded data removed]",
      "text/plain": [
       "<Figure size 432x288 with 2 Axes>"
      ]
     },
     "metadata": {},
     "output_type": "display_data"
    }
   ],
   "source": [
    "corr_train = train_db.corr()\n",
    "sns.heatmap(corr_train)\n",
    "plt.show()\n",
    "# this shows that SibSp and Parch columns are related , so we can combine this two column to reduce the dimension\n",
    "# of our data.. this plot only works for columns with numercal data "
   ]
  },
  {
   "cell_type": "code",
   "execution_count": 9,
   "metadata": {},
   "outputs": [
    {
     "data": {
      "text/plain": [
       "Sex     Survived\n",
       "female  0           25.796178\n",
       "        1           74.203822\n",
       "male    0           81.109185\n",
       "        1           18.890815\n",
       "Name: Survived, dtype: float64"
      ]
     },
     "execution_count": 9,
     "metadata": {},
     "output_type": "execute_result"
    }
   ],
   "source": [
    "((train_db.groupby(['Sex','Survived']).Survived.count() * 100) / train_db.groupby('Sex').Survived.count())\n",
    "# this shows that female have around 74% chance of survival while male have around 81% chance of death"
   ]
  },
  {
   "cell_type": "code",
   "execution_count": 10,
   "metadata": {},
   "outputs": [
    {
     "data": {
      "text/plain": [
       "Pclass  Survived\n",
       "1       0           37.037037\n",
       "        1           62.962963\n",
       "2       0           52.717391\n",
       "        1           47.282609\n",
       "3       0           75.763747\n",
       "        1           24.236253\n",
       "Name: Survived, dtype: float64"
      ]
     },
     "execution_count": 10,
     "metadata": {},
     "output_type": "execute_result"
    }
   ],
   "source": [
    "(train_db.groupby(['Pclass','Survived']).Survived.count() * 100) / train_db.groupby('Pclass').Survived.count()\n",
    "# this shows that people belonging to third class are likely to die while people in class one are likely to survive"
   ]
  },
  {
   "cell_type": "markdown",
   "metadata": {},
   "source": [
    "# Data Processing"
   ]
  },
  {
   "cell_type": "code",
   "execution_count": 11,
   "metadata": {},
   "outputs": [
    {
     "data": {
      "image/png": "[encoded data removed]",
      "text/plain": [
       "<Figure size 936x360 with 1 Axes>"
      ]
     },
     "metadata": {},
     "output_type": "display_data"
    }
   ],
   "source": [
    "plt.figure(figsize = (13,5))\n",
    "plt.bar(train_db.columns, train_db.isna().sum())\n",
    "plt.xlabel(\"Columns name\")\n",
    "plt.ylabel(\"Number of missing values in training data\")\n",
    "plt.show()"
   ]
  },
  {
   "cell_type": "code",
   "execution_count": 12,
   "metadata": {},
   "outputs": [],
   "source": [
    "# before filling the missing values, let's drop Cabin column from both data.\n",
    "train_db.drop('Cabin', axis = 1, inplace = True)\n",
    "test_db.drop('Cabin', axis = 1, inplace = True)"
   ]
  },
  {
   "cell_type": "code",
   "execution_count": 13,
   "metadata": {},
   "outputs": [
    {
     "name": "stdout",
     "output_type": "stream",
     "text": [
      "PassengerId      0\n",
      "Survived         0\n",
      "Pclass           0\n",
      "Name             0\n",
      "Sex              0\n",
      "Age            177\n",
      "SibSp            0\n",
      "Parch            0\n",
      "Ticket           0\n",
      "Fare             0\n",
      "Embarked         2\n",
      "dtype: int64\n",
      "********************\n",
      "PassengerId     0\n",
      "Pclass          0\n",
      "Name            0\n",
      "Sex             0\n",
      "Age            86\n",
      "SibSp           0\n",
      "Parch           0\n",
      "Ticket          0\n",
      "Fare            1\n",
      "Embarked        0\n",
      "dtype: int64\n",
      "********************\n"
     ]
    }
   ],
   "source": [
    "combined_data = [train_db, test_db]\n",
    "for data in combined_data:\n",
    "    print(data.isnull().sum())\n",
    "    print('*' * 20)"
   ]
  },
  {
   "cell_type": "code",
   "execution_count": 14,
   "metadata": {},
   "outputs": [],
   "source": [
    "# we simply can use SimpleImputer class form the sklearn to deal with the missing value\n",
    "import numpy as np\n",
    "from sklearn.impute import SimpleImputer\n",
    "\n",
    "impute1 = SimpleImputer(missing_values = np.nan, strategy = 'mean')\n",
    "impute2 = SimpleImputer(missing_values = np.nan, strategy = 'mean')\n",
    "train_db[['Age']] = impute1.fit_transform(train_db[['Age']])\n",
    "test_db[['Age']] = impute2.fit_transform(test_db[['Age']])\n",
    "\n",
    "impute3 = SimpleImputer(missing_values = np.nan, strategy = 'mean')\n",
    "test_db[['Fare']] = impute2.fit_transform(test_db[['Fare']])\n",
    "\n",
    "train_db.Embarked.fillna('S', inplace = True)\n",
    "test_db.Embarked.fillna('S', inplace = True)"
   ]
  },
  {
   "cell_type": "code",
   "execution_count": 15,
   "metadata": {},
   "outputs": [
    {
     "name": "stdout",
     "output_type": "stream",
     "text": [
      "PassengerId    0\n",
      "Survived       0\n",
      "Pclass         0\n",
      "Name           0\n",
      "Sex            0\n",
      "Age            0\n",
      "SibSp          0\n",
      "Parch          0\n",
      "Ticket         0\n",
      "Fare           0\n",
      "Embarked       0\n",
      "dtype: int64\n",
      "********************\n",
      "PassengerId    0\n",
      "Pclass         0\n",
      "Name           0\n",
      "Sex            0\n",
      "Age            0\n",
      "SibSp          0\n",
      "Parch          0\n",
      "Ticket         0\n",
      "Fare           0\n",
      "Embarked       0\n",
      "dtype: int64\n",
      "********************\n"
     ]
    }
   ],
   "source": [
    "combined_data = [train_db, test_db]\n",
    "for data in combined_data:\n",
    "    print(data.isnull().sum())\n",
    "    print('*' * 20)"
   ]
  },
  {
   "cell_type": "code",
   "execution_count": 16,
   "metadata": {},
   "outputs": [],
   "source": [
    "train_db.Sex = train_db.Sex.map({'female':1, 'male':0})\n",
    "test_db.Sex = test_db.Sex.map({'female':1, 'male':0})"
   ]
  },
  {
   "cell_type": "code",
   "execution_count": 17,
   "metadata": {},
   "outputs": [],
   "source": [
    "change = {'S':1,'C':2,'Q':0}\n",
    "train_db.Embarked = train_db.Embarked.map(change)\n",
    "test_db.Embarked = test_db.Embarked.map(change)"
   ]
  },
  {
   "cell_type": "markdown",
   "metadata": {},
   "source": [
    "# Feature Extraction\n",
    "while visualizing the correlation heatmap we came to know that Sibsp and Parch columns were closely related so lets created new column called Alone using this two columns -------> 1 = Alone , 0 = not Alone"
   ]
  },
  {
   "cell_type": "code",
   "execution_count": 18,
   "metadata": {},
   "outputs": [],
   "source": [
    "train_db['Alone'] = train_db.SibSp + train_db.Parch\n",
    "test_db['Alone'] = test_db.SibSp + test_db.Parch\n",
    "\n",
    "train_db.Alone = train_db.Alone.apply(lambda x: 1 if x == 0 else 0)\n",
    "test_db.Alone = test_db.Alone.apply(lambda x: 1 if x == 0 else 0)\n",
    "\n",
    "# now lets drop SibSp and Parch column for both training and testing data\n",
    "train_db.drop(['SibSp','Parch'], axis = 1, inplace = True)\n",
    "test_db.drop(['SibSp','Parch'], axis = 1, inplace = True )"
   ]
  },
  {
   "cell_type": "code",
   "execution_count": 19,
   "metadata": {},
   "outputs": [],
   "source": [
    "columns_to_drop = ['Name','PassengerId','Ticket']\n",
    "train_db.drop(columns_to_drop, axis = 1, inplace = True)\n",
    "test_db.drop(columns_to_drop, axis = 1, inplace = True)"
   ]
  },
  {
   "cell_type": "code",
   "execution_count": 20,
   "metadata": {},
   "outputs": [
    {
     "data": {
      "text/html": [
       "<div>\n",
       "<style scoped>\n",
       "    .dataframe tbody tr th:only-of-type {\n",
       "        vertical-align: middle;\n",
       "    }\n",
       "\n",
       "    .dataframe tbody tr th {\n",
       "        vertical-align: top;\n",
       "    }\n",
       "\n",
       "    .dataframe thead th {\n",
       "        text-align: right;\n",
       "    }\n",
       "</style>\n",
       "<table border=\"1\" class=\"dataframe\">\n",
       "  <thead>\n",
       "    <tr style=\"text-align: right;\">\n",
       "      <th></th>\n",
       "      <th>Pclass</th>\n",
       "      <th>Sex</th>\n",
       "      <th>Age</th>\n",
       "      <th>Fare</th>\n",
       "      <th>Embarked</th>\n",
       "      <th>Alone</th>\n",
       "    </tr>\n",
       "  </thead>\n",
       "  <tbody>\n",
       "    <tr>\n",
       "      <th>0</th>\n",
       "      <td>3</td>\n",
       "      <td>0</td>\n",
       "      <td>22.000000</td>\n",
       "      <td>7.2500</td>\n",
       "      <td>1</td>\n",
       "      <td>0</td>\n",
       "    </tr>\n",
       "    <tr>\n",
       "      <th>1</th>\n",
       "      <td>1</td>\n",
       "      <td>1</td>\n",
       "      <td>38.000000</td>\n",
       "      <td>71.2833</td>\n",
       "      <td>2</td>\n",
       "      <td>0</td>\n",
       "    </tr>\n",
       "    <tr>\n",
       "      <th>2</th>\n",
       "      <td>3</td>\n",
       "      <td>1</td>\n",
       "      <td>26.000000</td>\n",
       "      <td>7.9250</td>\n",
       "      <td>1</td>\n",
       "      <td>1</td>\n",
       "    </tr>\n",
       "    <tr>\n",
       "      <th>3</th>\n",
       "      <td>1</td>\n",
       "      <td>1</td>\n",
       "      <td>35.000000</td>\n",
       "      <td>53.1000</td>\n",
       "      <td>1</td>\n",
       "      <td>0</td>\n",
       "    </tr>\n",
       "    <tr>\n",
       "      <th>4</th>\n",
       "      <td>3</td>\n",
       "      <td>0</td>\n",
       "      <td>35.000000</td>\n",
       "      <td>8.0500</td>\n",
       "      <td>1</td>\n",
       "      <td>1</td>\n",
       "    </tr>\n",
       "    <tr>\n",
       "      <th>...</th>\n",
       "      <td>...</td>\n",
       "      <td>...</td>\n",
       "      <td>...</td>\n",
       "      <td>...</td>\n",
       "      <td>...</td>\n",
       "      <td>...</td>\n",
       "    </tr>\n",
       "    <tr>\n",
       "      <th>886</th>\n",
       "      <td>2</td>\n",
       "      <td>0</td>\n",
       "      <td>27.000000</td>\n",
       "      <td>13.0000</td>\n",
       "      <td>1</td>\n",
       "      <td>1</td>\n",
       "    </tr>\n",
       "    <tr>\n",
       "      <th>887</th>\n",
       "      <td>1</td>\n",
       "      <td>1</td>\n",
       "      <td>19.000000</td>\n",
       "      <td>30.0000</td>\n",
       "      <td>1</td>\n",
       "      <td>1</td>\n",
       "    </tr>\n",
       "    <tr>\n",
       "      <th>888</th>\n",
       "      <td>3</td>\n",
       "      <td>1</td>\n",
       "      <td>29.699118</td>\n",
       "      <td>23.4500</td>\n",
       "      <td>1</td>\n",
       "      <td>0</td>\n",
       "    </tr>\n",
       "    <tr>\n",
       "      <th>889</th>\n",
       "      <td>1</td>\n",
       "      <td>0</td>\n",
       "      <td>26.000000</td>\n",
       "      <td>30.0000</td>\n",
       "      <td>2</td>\n",
       "      <td>1</td>\n",
       "    </tr>\n",
       "    <tr>\n",
       "      <th>890</th>\n",
       "      <td>3</td>\n",
       "      <td>0</td>\n",
       "      <td>32.000000</td>\n",
       "      <td>7.7500</td>\n",
       "      <td>0</td>\n",
       "      <td>1</td>\n",
       "    </tr>\n",
       "  </tbody>\n",
       "</table>\n",
       "<p>891 rows × 6 columns</p>\n",
       "</div>"
      ],
      "text/plain": [
       "     Pclass  Sex        Age     Fare  Embarked  Alone\n",
       "0         3    0  22.000000   7.2500         1      0\n",
       "1         1    1  38.000000  71.2833         2      0\n",
       "2         3    1  26.000000   7.9250         1      1\n",
       "3         1    1  35.000000  53.1000         1      0\n",
       "4         3    0  35.000000   8.0500         1      1\n",
       "..      ...  ...        ...      ...       ...    ...\n",
       "886       2    0  27.000000  13.0000         1      1\n",
       "887       1    1  19.000000  30.0000         1      1\n",
       "888       3    1  29.699118  23.4500         1      0\n",
       "889       1    0  26.000000  30.0000         2      1\n",
       "890       3    0  32.000000   7.7500         0      1\n",
       "\n",
       "[891 rows x 6 columns]"
      ]
     },
     "execution_count": 20,
     "metadata": {},
     "output_type": "execute_result"
    }
   ],
   "source": [
    "X_train = train_db.iloc[:,1:7]\n",
    "y_train = train_db.iloc[:,0:1]\n",
    "X_test = test_db\n",
    "X_train"
   ]
  },
  {
   "cell_type": "markdown",
   "metadata": {},
   "source": [
    "# Random Forest"
   ]
  },
  {
   "cell_type": "code",
   "execution_count": 21,
   "metadata": {},
   "outputs": [
    {
     "name": "stdout",
     "output_type": "stream",
     "text": [
      "Fitting 5 folds for each of 108 candidates, totalling 540 fits\n"
     ]
    },
    {
     "name": "stderr",
     "output_type": "stream",
     "text": [
      "[Parallel(n_jobs=-1)]: Using backend LokyBackend with 4 concurrent workers.\n",
      "[Parallel(n_jobs=-1)]: Done  42 tasks      | elapsed:   18.7s\n",
      "[Parallel(n_jobs=-1)]: Done 192 tasks      | elapsed:  1.2min\n",
      "[Parallel(n_jobs=-1)]: Done 442 tasks      | elapsed:  2.2min\n",
      "[Parallel(n_jobs=-1)]: Done 540 out of 540 | elapsed:  2.6min finished\n"
     ]
    },
    {
     "data": {
      "text/plain": [
       "GridSearchCV(cv=5, estimator=RandomForestClassifier(), n_jobs=-1,\n",
       "             param_grid={'criterion': ['gini'], 'max_depth': [1, 3, 5, 7],\n",
       "                         'max_features': [1, 3, 5],\n",
       "                         'min_samples_split': [2, 3, 5],\n",
       "                         'n_estimators': [100, 200, 300]},\n",
       "             scoring='accuracy', verbose=1)"
      ]
     },
     "execution_count": 21,
     "metadata": {},
     "output_type": "execute_result"
    }
   ],
   "source": [
    "from sklearn.model_selection import GridSearchCV\n",
    "from sklearn.ensemble import RandomForestClassifier\n",
    "model=RandomForestClassifier()\n",
    "\n",
    "param={'n_estimators':[100,200,300],\n",
    "        'max_depth':[1,3,5,7],\n",
    "        'criterion':['gini'],\n",
    "        'max_features': [1,3,5],\n",
    "        \"min_samples_split\": [2,3,5]\n",
    "        }\n",
    "\n",
    "clf=GridSearchCV(estimator=model,\n",
    "                 param_grid=param,\n",
    "                 scoring=\"accuracy\",\n",
    "                 verbose=1,\n",
    "                 n_jobs=-1,\n",
    "                 cv=5)\n",
    "\n",
    "clf.fit(X_train,y_train)"
   ]
  },
  {
   "cell_type": "code",
   "execution_count": 22,
   "metadata": {},
   "outputs": [
    {
     "name": "stdout",
     "output_type": "stream",
     "text": [
      "{'criterion': 'gini', 'max_depth': 7, 'max_features': 5, 'min_samples_split': 5, 'n_estimators': 100}\n",
      "Score: 0.8372983491306257\n"
     ]
    }
   ],
   "source": [
    "print(clf.best_params_)\n",
    "params = clf.best_params_\n",
    "print('Score:', clf.best_score_)"
   ]
  },
  {
   "cell_type": "code",
   "execution_count": 24,
   "metadata": {},
   "outputs": [
    {
     "data": {
      "text/plain": [
       "array([0, 0, 0, 0, 0, 0, 1, 0, 1, 0, 0, 0, 1, 0, 1, 1, 0, 0, 0, 0, 0, 1,\n",
       "       1, 0, 1, 0, 1, 0, 0, 0, 0, 0, 1, 0, 0, 0, 0, 0, 0, 0, 0, 1, 0, 1,\n",
       "       1, 0, 0, 0, 1, 1, 0, 0, 1, 1, 0, 0, 0, 0, 0, 1, 0, 0, 0, 1, 1, 1,\n",
       "       1, 0, 0, 1, 1, 0, 0, 0, 1, 0, 0, 1, 0, 1, 1, 0, 0, 0, 0, 0, 1, 0,\n",
       "       0, 1, 0, 0, 1, 0, 0, 0, 1, 0, 1, 0, 1, 0, 0, 0, 1, 0, 0, 0, 0, 0,\n",
       "       0, 0, 1, 1, 1, 0, 0, 1, 0, 1, 1, 0, 1, 0, 0, 1, 0, 1, 0, 0, 0, 0,\n",
       "       0, 0, 0, 0, 0, 0, 0, 0, 0, 1, 0, 0, 1, 0, 0, 0, 1, 0, 1, 0, 0, 0,\n",
       "       0, 0, 1, 1, 1, 0, 0, 1, 1, 0, 0, 1, 0, 0, 1, 0, 0, 0, 0, 0, 0, 1,\n",
       "       1, 0, 1, 1, 0, 0, 1, 0, 1, 0, 1, 0, 0, 0, 0, 0, 0, 0, 1, 0, 1, 1,\n",
       "       0, 0, 1, 1, 0, 1, 0, 0, 0, 0, 1, 0, 0, 0, 0, 1, 0, 0, 0, 0, 1, 0,\n",
       "       1, 0, 1, 0, 1, 0, 0, 0, 0, 0, 0, 1, 0, 0, 0, 0, 0, 0, 1, 1, 1, 1,\n",
       "       0, 0, 0, 0, 1, 0, 1, 0, 1, 0, 0, 0, 0, 0, 0, 0, 1, 0, 0, 0, 1, 1,\n",
       "       0, 0, 0, 0, 0, 0, 0, 0, 1, 1, 0, 1, 0, 0, 0, 0, 0, 1, 0, 0, 1, 0,\n",
       "       0, 0, 0, 0, 0, 0, 0, 0, 0, 0, 1, 0, 0, 0, 0, 0, 0, 0, 0, 1, 0, 1,\n",
       "       0, 0, 0, 0, 0, 0, 1, 1, 0, 0, 0, 0, 0, 0, 0, 1, 1, 0, 1, 0, 0, 0,\n",
       "       1, 0, 0, 1, 0, 0, 0, 0, 0, 0, 0, 0, 0, 1, 0, 1, 0, 0, 0, 1, 1, 0,\n",
       "       0, 0, 1, 0, 1, 0, 0, 1, 0, 1, 1, 0, 1, 0, 0, 0, 1, 0, 0, 1, 0, 0,\n",
       "       1, 1, 0, 0, 0, 0, 0, 0, 0, 1, 0, 1, 0, 0, 0, 0, 0, 1, 0, 0, 0, 1,\n",
       "       0, 1, 0, 0, 1, 0, 1, 0, 0, 0, 0, 0, 0, 1, 0, 1, 1, 0, 1, 0, 0, 0],\n",
       "      dtype=int64)"
      ]
     },
     "execution_count": 24,
     "metadata": {},
     "output_type": "execute_result"
    }
   ],
   "source": [
    "from sklearn.ensemble import RandomForestClassifier\n",
    "clf_RandomForest = RandomForestClassifier(n_estimators=params['n_estimators'], \n",
    "                                          criterion=params['criterion'], \n",
    "                                          max_depth=params['max_depth'], \n",
    "                                          min_samples_split=params['min_samples_split'], \n",
    "                                          max_features=params['max_features'], \n",
    "                                          random_state=42)\n",
    "clf_RandomForest.fit(X_train, y_train)\n",
    "predict_RandomForest = clf_RandomForest.predict(X_test)\n",
    "predict_RandomForest"
   ]
  },
  {
   "cell_type": "code",
   "execution_count": 25,
   "metadata": {},
   "outputs": [],
   "source": [
    "final={'PassengerId':p_id,\n",
    "        'Survived':predict_RandomForest}\n",
    "\n",
    "submission1=pd.DataFrame(data=final)\n",
    "submission1.to_csv('prediction_RamdomForest.csv',index=False)"
   ]
  },
  {
   "cell_type": "code",
   "execution_count": 26,
   "metadata": {},
   "outputs": [
    {
     "name": "stdout",
     "output_type": "stream",
     "text": [
      "Most import features: \n",
      "Pclass: 15%\n",
      "Sex: 43%\n",
      "Age: 18%\n",
      "Fare: 20%\n",
      "Embarked: 2%\n",
      "Alone: 1%\n"
     ]
    }
   ],
   "source": [
    "print('Most import features: ')\n",
    "for i,j in enumerate(X_train.head(1)):\n",
    "    print('%s: %s' %(j, int(clf_RandomForest.feature_importances_[i]*100)) + '%')"
   ]
  },
  {
   "cell_type": "markdown",
   "metadata": {},
   "source": [
    "# Neural Network"
   ]
  },
  {
   "cell_type": "code",
   "execution_count": 27,
   "metadata": {},
   "outputs": [],
   "source": [
    "combined_data = [X_test, X_train]\n",
    "for dataset in combined_data:    \n",
    "    dataset.loc[ dataset['Age'] <= 16, 'Age'] = 0\n",
    "    dataset.loc[(dataset['Age'] > 16) & (dataset['Age'] <= 32), 'Age'] = 1\n",
    "    dataset.loc[(dataset['Age'] > 32) & (dataset['Age'] <= 48), 'Age'] = 2\n",
    "    dataset.loc[(dataset['Age'] > 48) & (dataset['Age'] <= 64), 'Age'] = 3\n",
    "    dataset.loc[ dataset['Age'] > 64, 'Age'] = 4"
   ]
  },
  {
   "cell_type": "code",
   "execution_count": 28,
   "metadata": {},
   "outputs": [],
   "source": [
    "combined_data = [X_test, X_train]\n",
    "for data in combined_data:\n",
    "    data.loc[data['Fare'] < 30, 'Fare'] = 0\n",
    "    data.loc[(data['Fare'] >= 30) & (data['Fare'] < 50),'Fare'] = 1\n",
    "    data.loc[(data['Fare'] >= 50) & (data['Fare'] < 100),'Fare'] = 2\n",
    "    data.loc[(data['Fare'] >= 100),'Fare'] = 3"
   ]
  },
  {
   "cell_type": "code",
   "execution_count": 29,
   "metadata": {},
   "outputs": [
    {
     "data": {
      "text/html": [
       "<div>\n",
       "<style scoped>\n",
       "    .dataframe tbody tr th:only-of-type {\n",
       "        vertical-align: middle;\n",
       "    }\n",
       "\n",
       "    .dataframe tbody tr th {\n",
       "        vertical-align: top;\n",
       "    }\n",
       "\n",
       "    .dataframe thead th {\n",
       "        text-align: right;\n",
       "    }\n",
       "</style>\n",
       "<table border=\"1\" class=\"dataframe\">\n",
       "  <thead>\n",
       "    <tr style=\"text-align: right;\">\n",
       "      <th></th>\n",
       "      <th>Pclass</th>\n",
       "      <th>Sex</th>\n",
       "      <th>Age</th>\n",
       "      <th>Fare</th>\n",
       "      <th>Embarked</th>\n",
       "      <th>Alone</th>\n",
       "    </tr>\n",
       "  </thead>\n",
       "  <tbody>\n",
       "    <tr>\n",
       "      <th>0</th>\n",
       "      <td>3</td>\n",
       "      <td>0</td>\n",
       "      <td>2</td>\n",
       "      <td>0</td>\n",
       "      <td>0</td>\n",
       "      <td>1</td>\n",
       "    </tr>\n",
       "    <tr>\n",
       "      <th>1</th>\n",
       "      <td>3</td>\n",
       "      <td>1</td>\n",
       "      <td>2</td>\n",
       "      <td>0</td>\n",
       "      <td>1</td>\n",
       "      <td>0</td>\n",
       "    </tr>\n",
       "    <tr>\n",
       "      <th>2</th>\n",
       "      <td>2</td>\n",
       "      <td>0</td>\n",
       "      <td>3</td>\n",
       "      <td>0</td>\n",
       "      <td>0</td>\n",
       "      <td>1</td>\n",
       "    </tr>\n",
       "    <tr>\n",
       "      <th>3</th>\n",
       "      <td>3</td>\n",
       "      <td>0</td>\n",
       "      <td>1</td>\n",
       "      <td>0</td>\n",
       "      <td>1</td>\n",
       "      <td>1</td>\n",
       "    </tr>\n",
       "    <tr>\n",
       "      <th>4</th>\n",
       "      <td>3</td>\n",
       "      <td>1</td>\n",
       "      <td>1</td>\n",
       "      <td>0</td>\n",
       "      <td>1</td>\n",
       "      <td>0</td>\n",
       "    </tr>\n",
       "    <tr>\n",
       "      <th>...</th>\n",
       "      <td>...</td>\n",
       "      <td>...</td>\n",
       "      <td>...</td>\n",
       "      <td>...</td>\n",
       "      <td>...</td>\n",
       "      <td>...</td>\n",
       "    </tr>\n",
       "    <tr>\n",
       "      <th>413</th>\n",
       "      <td>3</td>\n",
       "      <td>0</td>\n",
       "      <td>1</td>\n",
       "      <td>0</td>\n",
       "      <td>1</td>\n",
       "      <td>1</td>\n",
       "    </tr>\n",
       "    <tr>\n",
       "      <th>414</th>\n",
       "      <td>1</td>\n",
       "      <td>1</td>\n",
       "      <td>2</td>\n",
       "      <td>3</td>\n",
       "      <td>2</td>\n",
       "      <td>1</td>\n",
       "    </tr>\n",
       "    <tr>\n",
       "      <th>415</th>\n",
       "      <td>3</td>\n",
       "      <td>0</td>\n",
       "      <td>2</td>\n",
       "      <td>0</td>\n",
       "      <td>1</td>\n",
       "      <td>1</td>\n",
       "    </tr>\n",
       "    <tr>\n",
       "      <th>416</th>\n",
       "      <td>3</td>\n",
       "      <td>0</td>\n",
       "      <td>1</td>\n",
       "      <td>0</td>\n",
       "      <td>1</td>\n",
       "      <td>1</td>\n",
       "    </tr>\n",
       "    <tr>\n",
       "      <th>417</th>\n",
       "      <td>3</td>\n",
       "      <td>0</td>\n",
       "      <td>1</td>\n",
       "      <td>0</td>\n",
       "      <td>2</td>\n",
       "      <td>0</td>\n",
       "    </tr>\n",
       "  </tbody>\n",
       "</table>\n",
       "<p>418 rows × 6 columns</p>\n",
       "</div>"
      ],
      "text/plain": [
       "     Pclass  Sex  Age  Fare  Embarked  Alone\n",
       "0         3    0    2     0         0      1\n",
       "1         3    1    2     0         1      0\n",
       "2         2    0    3     0         0      1\n",
       "3         3    0    1     0         1      1\n",
       "4         3    1    1     0         1      0\n",
       "..      ...  ...  ...   ...       ...    ...\n",
       "413       3    0    1     0         1      1\n",
       "414       1    1    2     3         2      1\n",
       "415       3    0    2     0         1      1\n",
       "416       3    0    1     0         1      1\n",
       "417       3    0    1     0         2      0\n",
       "\n",
       "[418 rows x 6 columns]"
      ]
     },
     "execution_count": 29,
     "metadata": {},
     "output_type": "execute_result"
    }
   ],
   "source": [
    "X_test = X_test.astype(int)\n",
    "X_test"
   ]
  },
  {
   "cell_type": "code",
   "execution_count": 30,
   "metadata": {},
   "outputs": [],
   "source": [
    "def createNetwork():\n",
    "    import keras\n",
    "    from tensorflow.keras.models import Sequential\n",
    "    from tensorflow.keras.layers import Dense, Dropout, Input\n",
    "\n",
    "    clf = Sequential()\n",
    "    clf.add(Dense(units = 32, input_dim = 6, activation = 'relu'))\n",
    "    clf.add(Dense(units = 32, activation = 'relu'))\n",
    "    clf.add(Dropout(0.1))\n",
    "    clf.add(Dense(units = 32, activation = 'relu'))\n",
    "    clf.add(Dropout(0.1))\n",
    "    #clf.add(Dense(units = 256, activation = 'relu'))\n",
    "    #clf.add(Dropout(0.15))\n",
    "    #clf.add(Dense(units = 32, activation = 'relu'))\n",
    "    clf.add(Dense(units =1 , activation = 'sigmoid'))\n",
    "    \n",
    "    clf.compile(optimizer='adam', loss='binary_crossentropy', metrics = ['accuracy'])\n",
    "    \n",
    "    return clf"
   ]
  },
  {
   "cell_type": "code",
   "execution_count": 31,
   "metadata": {},
   "outputs": [
    {
     "name": "stdout",
     "output_type": "stream",
     "text": [
      "Epoch 1/100\n",
      "28/28 - 1s - loss: 0.6235 - accuracy: 0.6723\n",
      "Epoch 2/100\n",
      "28/28 - 0s - loss: 0.5248 - accuracy: 0.7654\n",
      "Epoch 3/100\n",
      "28/28 - 0s - loss: 0.4901 - accuracy: 0.7576\n",
      "Epoch 4/100\n",
      "28/28 - 0s - loss: 0.4750 - accuracy: 0.7767\n",
      "Epoch 5/100\n",
      "28/28 - 0s - loss: 0.4604 - accuracy: 0.7845\n",
      "Epoch 6/100\n",
      "28/28 - 0s - loss: 0.4588 - accuracy: 0.7924\n",
      "Epoch 7/100\n",
      "28/28 - 0s - loss: 0.4503 - accuracy: 0.7868\n",
      "Epoch 8/100\n",
      "28/28 - 0s - loss: 0.4431 - accuracy: 0.8058\n",
      "Epoch 9/100\n",
      "28/28 - 0s - loss: 0.4478 - accuracy: 0.7957\n",
      "Epoch 10/100\n",
      "28/28 - 0s - loss: 0.4455 - accuracy: 0.7991\n",
      "Epoch 11/100\n",
      "28/28 - 0s - loss: 0.4438 - accuracy: 0.7957\n",
      "Epoch 12/100\n",
      "28/28 - 0s - loss: 0.4325 - accuracy: 0.7991\n",
      "Epoch 13/100\n",
      "28/28 - 0s - loss: 0.4296 - accuracy: 0.8137\n",
      "Epoch 14/100\n",
      "28/28 - 0s - loss: 0.4307 - accuracy: 0.8002\n",
      "Epoch 15/100\n",
      "28/28 - 0s - loss: 0.4317 - accuracy: 0.7969\n",
      "Epoch 16/100\n",
      "28/28 - 0s - loss: 0.4346 - accuracy: 0.8002\n",
      "Epoch 17/100\n",
      "28/28 - 0s - loss: 0.4366 - accuracy: 0.8013\n",
      "Epoch 18/100\n",
      "28/28 - 0s - loss: 0.4207 - accuracy: 0.8193\n",
      "Epoch 19/100\n",
      "28/28 - 0s - loss: 0.4322 - accuracy: 0.8081\n",
      "Epoch 20/100\n",
      "28/28 - 0s - loss: 0.4286 - accuracy: 0.8092\n",
      "Epoch 21/100\n",
      "28/28 - 0s - loss: 0.4293 - accuracy: 0.7980\n",
      "Epoch 22/100\n",
      "28/28 - 0s - loss: 0.4237 - accuracy: 0.8025\n",
      "Epoch 23/100\n",
      "28/28 - 0s - loss: 0.4277 - accuracy: 0.8148\n",
      "Epoch 24/100\n",
      "28/28 - 0s - loss: 0.4184 - accuracy: 0.8058\n",
      "Epoch 25/100\n",
      "28/28 - 0s - loss: 0.4204 - accuracy: 0.8204\n",
      "Epoch 26/100\n",
      "28/28 - 0s - loss: 0.4283 - accuracy: 0.8070\n",
      "Epoch 27/100\n",
      "28/28 - 0s - loss: 0.4291 - accuracy: 0.8058\n",
      "Epoch 28/100\n",
      "28/28 - 0s - loss: 0.4189 - accuracy: 0.8070\n",
      "Epoch 29/100\n",
      "28/28 - 0s - loss: 0.4321 - accuracy: 0.8058\n",
      "Epoch 30/100\n",
      "28/28 - 0s - loss: 0.4192 - accuracy: 0.8137\n",
      "Epoch 31/100\n",
      "28/28 - 0s - loss: 0.4236 - accuracy: 0.8092\n",
      "Epoch 32/100\n",
      "28/28 - 0s - loss: 0.4132 - accuracy: 0.8238\n",
      "Epoch 33/100\n",
      "28/28 - 0s - loss: 0.4193 - accuracy: 0.8137\n",
      "Epoch 34/100\n",
      "28/28 - 0s - loss: 0.4218 - accuracy: 0.8171\n",
      "Epoch 35/100\n",
      "28/28 - 0s - loss: 0.4190 - accuracy: 0.8092\n",
      "Epoch 36/100\n",
      "28/28 - 0s - loss: 0.4268 - accuracy: 0.8058\n",
      "Epoch 37/100\n",
      "28/28 - 0s - loss: 0.4162 - accuracy: 0.8114\n",
      "Epoch 38/100\n",
      "28/28 - 0s - loss: 0.4104 - accuracy: 0.8204\n",
      "Epoch 39/100\n",
      "28/28 - 0s - loss: 0.4173 - accuracy: 0.8148\n",
      "Epoch 40/100\n",
      "28/28 - 0s - loss: 0.4178 - accuracy: 0.8171\n",
      "Epoch 41/100\n",
      "28/28 - 0s - loss: 0.4205 - accuracy: 0.8171\n",
      "Epoch 42/100\n",
      "28/28 - 0s - loss: 0.4012 - accuracy: 0.8171\n",
      "Epoch 43/100\n",
      "28/28 - 0s - loss: 0.4162 - accuracy: 0.8159\n",
      "Epoch 44/100\n",
      "28/28 - 0s - loss: 0.4162 - accuracy: 0.8114\n",
      "Epoch 45/100\n",
      "28/28 - 0s - loss: 0.4100 - accuracy: 0.8204\n",
      "Epoch 46/100\n",
      "28/28 - 0s - loss: 0.4089 - accuracy: 0.8238\n",
      "Epoch 47/100\n",
      "28/28 - 0s - loss: 0.4052 - accuracy: 0.8126\n",
      "Epoch 48/100\n",
      "28/28 - 0s - loss: 0.4108 - accuracy: 0.8182\n",
      "Epoch 49/100\n",
      "28/28 - 0s - loss: 0.4130 - accuracy: 0.8204\n",
      "Epoch 50/100\n",
      "28/28 - 0s - loss: 0.4105 - accuracy: 0.8182\n",
      "Epoch 51/100\n",
      "28/28 - 0s - loss: 0.4090 - accuracy: 0.8260\n",
      "Epoch 52/100\n",
      "28/28 - 0s - loss: 0.4144 - accuracy: 0.8137\n",
      "Epoch 53/100\n",
      "28/28 - 0s - loss: 0.4092 - accuracy: 0.8114\n",
      "Epoch 54/100\n",
      "28/28 - 0s - loss: 0.4012 - accuracy: 0.8294\n",
      "Epoch 55/100\n",
      "28/28 - 0s - loss: 0.4026 - accuracy: 0.8249\n",
      "Epoch 56/100\n",
      "28/28 - 0s - loss: 0.4052 - accuracy: 0.8227\n",
      "Epoch 57/100\n",
      "28/28 - 0s - loss: 0.4166 - accuracy: 0.8171\n",
      "Epoch 58/100\n",
      "28/28 - 0s - loss: 0.4065 - accuracy: 0.8249\n",
      "Epoch 59/100\n",
      "28/28 - 0s - loss: 0.4033 - accuracy: 0.8159\n",
      "Epoch 60/100\n",
      "28/28 - 0s - loss: 0.4005 - accuracy: 0.8215\n",
      "Epoch 61/100\n",
      "28/28 - 0s - loss: 0.4000 - accuracy: 0.8193\n",
      "Epoch 62/100\n",
      "28/28 - 0s - loss: 0.4101 - accuracy: 0.8159\n",
      "Epoch 63/100\n",
      "28/28 - 0s - loss: 0.4068 - accuracy: 0.8260\n",
      "Epoch 64/100\n",
      "28/28 - 0s - loss: 0.4027 - accuracy: 0.8238\n",
      "Epoch 65/100\n",
      "28/28 - 0s - loss: 0.4019 - accuracy: 0.8294\n",
      "Epoch 66/100\n",
      "28/28 - 0s - loss: 0.3977 - accuracy: 0.8227\n",
      "Epoch 67/100\n",
      "28/28 - 0s - loss: 0.4015 - accuracy: 0.8137\n",
      "Epoch 68/100\n",
      "28/28 - 0s - loss: 0.3984 - accuracy: 0.8204\n",
      "Epoch 69/100\n",
      "28/28 - 0s - loss: 0.4020 - accuracy: 0.8238\n",
      "Epoch 70/100\n",
      "28/28 - 0s - loss: 0.4007 - accuracy: 0.8260\n",
      "Epoch 71/100\n",
      "28/28 - 0s - loss: 0.4058 - accuracy: 0.8215\n",
      "Epoch 72/100\n",
      "28/28 - 0s - loss: 0.3973 - accuracy: 0.8305\n",
      "Epoch 73/100\n",
      "28/28 - 0s - loss: 0.4061 - accuracy: 0.8204\n",
      "Epoch 74/100\n",
      "28/28 - 0s - loss: 0.4020 - accuracy: 0.8227\n",
      "Epoch 75/100\n",
      "28/28 - 0s - loss: 0.4038 - accuracy: 0.8215\n",
      "Epoch 76/100\n",
      "28/28 - 0s - loss: 0.4003 - accuracy: 0.8238\n",
      "Epoch 77/100\n",
      "28/28 - 0s - loss: 0.3983 - accuracy: 0.8148\n",
      "Epoch 78/100\n",
      "28/28 - 0s - loss: 0.3994 - accuracy: 0.8215\n",
      "Epoch 79/100\n",
      "28/28 - 0s - loss: 0.3958 - accuracy: 0.8215\n",
      "Epoch 80/100\n",
      "28/28 - 0s - loss: 0.3936 - accuracy: 0.8215\n",
      "Epoch 81/100\n",
      "28/28 - 0s - loss: 0.3958 - accuracy: 0.8283\n",
      "Epoch 82/100\n",
      "28/28 - 0s - loss: 0.3989 - accuracy: 0.8238\n",
      "Epoch 83/100\n",
      "28/28 - 0s - loss: 0.3968 - accuracy: 0.8350\n",
      "Epoch 84/100\n",
      "28/28 - 0s - loss: 0.3985 - accuracy: 0.8215\n",
      "Epoch 85/100\n",
      "28/28 - 0s - loss: 0.3997 - accuracy: 0.8182\n",
      "Epoch 86/100\n",
      "28/28 - 0s - loss: 0.4002 - accuracy: 0.8227\n",
      "Epoch 87/100\n",
      "28/28 - 0s - loss: 0.3989 - accuracy: 0.8294\n",
      "Epoch 88/100\n",
      "28/28 - 0s - loss: 0.3934 - accuracy: 0.8215\n",
      "Epoch 89/100\n",
      "28/28 - 0s - loss: 0.3956 - accuracy: 0.8227\n",
      "Epoch 90/100\n",
      "28/28 - 0s - loss: 0.3944 - accuracy: 0.8350\n",
      "Epoch 91/100\n",
      "28/28 - 0s - loss: 0.3920 - accuracy: 0.8294\n",
      "Epoch 92/100\n",
      "28/28 - 0s - loss: 0.3905 - accuracy: 0.8238\n",
      "Epoch 93/100\n",
      "28/28 - 0s - loss: 0.3898 - accuracy: 0.8294\n",
      "Epoch 94/100\n",
      "28/28 - 0s - loss: 0.3936 - accuracy: 0.8339\n",
      "Epoch 95/100\n",
      "28/28 - 0s - loss: 0.3920 - accuracy: 0.8283\n",
      "Epoch 96/100\n",
      "28/28 - 0s - loss: 0.3948 - accuracy: 0.8215\n",
      "Epoch 97/100\n",
      "28/28 - 0s - loss: 0.3934 - accuracy: 0.8215\n",
      "Epoch 98/100\n",
      "28/28 - 0s - loss: 0.3929 - accuracy: 0.8171\n",
      "Epoch 99/100\n",
      "28/28 - 0s - loss: 0.3884 - accuracy: 0.8384\n",
      "Epoch 100/100\n",
      "28/28 - 0s - loss: 0.3805 - accuracy: 0.8418\n"
     ]
    },
    {
     "data": {
      "text/plain": [
       "<tensorflow.python.keras.callbacks.History at 0x23815b68be0>"
      ]
     },
     "execution_count": 31,
     "metadata": {},
     "output_type": "execute_result"
    }
   ],
   "source": [
    "model = createNetwork()\n",
    "#model.summary()\n",
    "model.fit(X_train, y_train, batch_size = 32, verbose = 2, epochs = 100)"
   ]
  },
  {
   "cell_type": "code",
   "execution_count": 32,
   "metadata": {},
   "outputs": [
    {
     "name": "stdout",
     "output_type": "stream",
     "text": [
      "[0 0 0 0 0 0 1 0 1 0 0 0 1 0 1 1 0 0 0 0 0 1 1 1 1 0 1 0 0 0 0 0 0 0 1 0 1\n",
      " 1 0 0 0 0 0 1 1 0 0 0 1 0 0 0 1 1 0 0 0 0 0 1 0 0 0 1 1 1 1 0 0 1 1 0 1 0\n",
      " 1 0 0 1 0 1 1 0 0 0 0 0 1 1 1 1 0 0 1 0 0 0 1 0 1 0 1 0 0 0 1 0 0 0 0 0 0\n",
      " 1 1 1 1 0 0 0 0 1 1 0 1 0 0 0 0 1 0 0 0 0 0 0 0 0 0 0 1 0 0 1 1 0 0 0 0 0\n",
      " 0 0 1 0 0 0 0 0 1 1 0 0 1 1 1 0 0 0 0 0 1 1 0 0 0 0 0 1 1 0 1 1 0 1 1 0 1\n",
      " 0 1 0 0 0 0 0 1 0 1 0 1 1 0 1 1 1 1 1 0 0 1 0 1 0 0 0 0 1 0 0 1 0 1 0 1 0\n",
      " 1 0 1 1 0 1 0 0 1 1 0 0 1 0 0 0 1 1 1 1 1 0 0 0 1 0 1 1 1 0 1 0 0 0 0 0 1\n",
      " 0 0 0 1 0 0 0 0 0 1 0 0 0 1 1 0 1 0 0 0 0 1 1 1 1 0 0 0 0 0 0 0 1 0 0 0 0\n",
      " 1 0 0 0 0 0 0 0 1 1 0 1 0 0 0 0 0 1 1 1 1 0 0 0 0 0 0 0 1 0 1 0 0 0 1 0 0\n",
      " 1 0 0 0 0 0 0 0 0 0 1 0 1 0 0 0 1 1 0 0 0 0 0 1 0 0 0 0 1 1 0 1 0 0 0 1 0\n",
      " 0 1 0 0 1 1 0 0 0 0 0 0 1 0 0 1 0 0 0 1 0 1 1 0 0 1 0 1 0 0 1 0 1 0 0 0 0\n",
      " 1 1 0 1 1 1 0 1 0 0 0]\n"
     ]
    }
   ],
   "source": [
    "prediction_nn = model.predict(X_test)\n",
    "#since we have use sigmoid activation function in output layer\n",
    "prediction_nn = (prediction_nn > 0.5).astype(int).ravel()\n",
    "print(prediction_nn)"
   ]
  },
  {
   "cell_type": "code",
   "execution_count": 33,
   "metadata": {},
   "outputs": [
    {
     "data": {
      "text/html": [
       "<div>\n",
       "<style scoped>\n",
       "    .dataframe tbody tr th:only-of-type {\n",
       "        vertical-align: middle;\n",
       "    }\n",
       "\n",
       "    .dataframe tbody tr th {\n",
       "        vertical-align: top;\n",
       "    }\n",
       "\n",
       "    .dataframe thead th {\n",
       "        text-align: right;\n",
       "    }\n",
       "</style>\n",
       "<table border=\"1\" class=\"dataframe\">\n",
       "  <thead>\n",
       "    <tr style=\"text-align: right;\">\n",
       "      <th></th>\n",
       "      <th>PassengerId</th>\n",
       "      <th>Survived</th>\n",
       "    </tr>\n",
       "  </thead>\n",
       "  <tbody>\n",
       "    <tr>\n",
       "      <th>0</th>\n",
       "      <td>892</td>\n",
       "      <td>0</td>\n",
       "    </tr>\n",
       "    <tr>\n",
       "      <th>1</th>\n",
       "      <td>893</td>\n",
       "      <td>0</td>\n",
       "    </tr>\n",
       "    <tr>\n",
       "      <th>2</th>\n",
       "      <td>894</td>\n",
       "      <td>0</td>\n",
       "    </tr>\n",
       "    <tr>\n",
       "      <th>3</th>\n",
       "      <td>895</td>\n",
       "      <td>0</td>\n",
       "    </tr>\n",
       "    <tr>\n",
       "      <th>4</th>\n",
       "      <td>896</td>\n",
       "      <td>0</td>\n",
       "    </tr>\n",
       "    <tr>\n",
       "      <th>...</th>\n",
       "      <td>...</td>\n",
       "      <td>...</td>\n",
       "    </tr>\n",
       "    <tr>\n",
       "      <th>413</th>\n",
       "      <td>1305</td>\n",
       "      <td>0</td>\n",
       "    </tr>\n",
       "    <tr>\n",
       "      <th>414</th>\n",
       "      <td>1306</td>\n",
       "      <td>1</td>\n",
       "    </tr>\n",
       "    <tr>\n",
       "      <th>415</th>\n",
       "      <td>1307</td>\n",
       "      <td>0</td>\n",
       "    </tr>\n",
       "    <tr>\n",
       "      <th>416</th>\n",
       "      <td>1308</td>\n",
       "      <td>0</td>\n",
       "    </tr>\n",
       "    <tr>\n",
       "      <th>417</th>\n",
       "      <td>1309</td>\n",
       "      <td>0</td>\n",
       "    </tr>\n",
       "  </tbody>\n",
       "</table>\n",
       "<p>418 rows × 2 columns</p>\n",
       "</div>"
      ],
      "text/plain": [
       "     PassengerId  Survived\n",
       "0            892         0\n",
       "1            893         0\n",
       "2            894         0\n",
       "3            895         0\n",
       "4            896         0\n",
       "..           ...       ...\n",
       "413         1305         0\n",
       "414         1306         1\n",
       "415         1307         0\n",
       "416         1308         0\n",
       "417         1309         0\n",
       "\n",
       "[418 rows x 2 columns]"
      ]
     },
     "execution_count": 33,
     "metadata": {},
     "output_type": "execute_result"
    }
   ],
   "source": [
    "final={'PassengerId':p_id,\n",
    "       'Survived':prediction_nn}\n",
    "\n",
    "submission2=pd.DataFrame(data=final)\n",
    "submission2.to_csv('prediction_NeuralNetwork.csv',index=False)\n",
    "submission2"
   ]
  },
  {
   "cell_type": "code",
   "execution_count": null,
   "metadata": {},
   "outputs": [],
   "source": []
  }
 ],
 "metadata": {
  "kernelspec": {
   "display_name": "Python 3",
   "language": "python",
   "name": "python3"
  },
  "language_info": {
   "codemirror_mode": {
    "name": "ipython",
    "version": 3
   },
   "file_extension": ".py",
   "mimetype": "text/x-python",
   "name": "python",
   "nbconvert_exporter": "python",
   "pygments_lexer": "ipython3",
   "version": "3.7.3"
  }
 },
 "nbformat": 4,
 "nbformat_minor": 4
}
