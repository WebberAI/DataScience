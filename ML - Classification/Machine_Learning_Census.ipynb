{
 "cells": [
  {
   "cell_type": "code",
   "execution_count": 1,
   "metadata": {},
   "outputs": [
    {
     "data": {
      "text/html": [
       "<div>\n",
       "<style scoped>\n",
       "    .dataframe tbody tr th:only-of-type {\n",
       "        vertical-align: middle;\n",
       "    }\n",
       "\n",
       "    .dataframe tbody tr th {\n",
       "        vertical-align: top;\n",
       "    }\n",
       "\n",
       "    .dataframe thead th {\n",
       "        text-align: right;\n",
       "    }\n",
       "</style>\n",
       "<table border=\"1\" class=\"dataframe\">\n",
       "  <thead>\n",
       "    <tr style=\"text-align: right;\">\n",
       "      <th></th>\n",
       "      <th>age</th>\n",
       "      <th>workclass</th>\n",
       "      <th>final-weight</th>\n",
       "      <th>education</th>\n",
       "      <th>education-num</th>\n",
       "      <th>marital-status</th>\n",
       "      <th>occupation</th>\n",
       "      <th>relationship</th>\n",
       "      <th>race</th>\n",
       "      <th>sex</th>\n",
       "      <th>capital-gain</th>\n",
       "      <th>capital-loos</th>\n",
       "      <th>hour-per-week</th>\n",
       "      <th>native-country</th>\n",
       "      <th>income</th>\n",
       "    </tr>\n",
       "  </thead>\n",
       "  <tbody>\n",
       "    <tr>\n",
       "      <th>0</th>\n",
       "      <td>39</td>\n",
       "      <td>State-gov</td>\n",
       "      <td>77516</td>\n",
       "      <td>Bachelors</td>\n",
       "      <td>13</td>\n",
       "      <td>Never-married</td>\n",
       "      <td>Adm-clerical</td>\n",
       "      <td>Not-in-family</td>\n",
       "      <td>White</td>\n",
       "      <td>Male</td>\n",
       "      <td>2174</td>\n",
       "      <td>0</td>\n",
       "      <td>40</td>\n",
       "      <td>United-States</td>\n",
       "      <td>&lt;=50K</td>\n",
       "    </tr>\n",
       "    <tr>\n",
       "      <th>1</th>\n",
       "      <td>50</td>\n",
       "      <td>Self-emp-not-inc</td>\n",
       "      <td>83311</td>\n",
       "      <td>Bachelors</td>\n",
       "      <td>13</td>\n",
       "      <td>Married-civ-spouse</td>\n",
       "      <td>Exec-managerial</td>\n",
       "      <td>Husband</td>\n",
       "      <td>White</td>\n",
       "      <td>Male</td>\n",
       "      <td>0</td>\n",
       "      <td>0</td>\n",
       "      <td>13</td>\n",
       "      <td>United-States</td>\n",
       "      <td>&lt;=50K</td>\n",
       "    </tr>\n",
       "    <tr>\n",
       "      <th>2</th>\n",
       "      <td>38</td>\n",
       "      <td>Private</td>\n",
       "      <td>215646</td>\n",
       "      <td>HS-grad</td>\n",
       "      <td>9</td>\n",
       "      <td>Divorced</td>\n",
       "      <td>Handlers-cleaners</td>\n",
       "      <td>Not-in-family</td>\n",
       "      <td>White</td>\n",
       "      <td>Male</td>\n",
       "      <td>0</td>\n",
       "      <td>0</td>\n",
       "      <td>40</td>\n",
       "      <td>United-States</td>\n",
       "      <td>&lt;=50K</td>\n",
       "    </tr>\n",
       "    <tr>\n",
       "      <th>3</th>\n",
       "      <td>53</td>\n",
       "      <td>Private</td>\n",
       "      <td>234721</td>\n",
       "      <td>11th</td>\n",
       "      <td>7</td>\n",
       "      <td>Married-civ-spouse</td>\n",
       "      <td>Handlers-cleaners</td>\n",
       "      <td>Husband</td>\n",
       "      <td>Black</td>\n",
       "      <td>Male</td>\n",
       "      <td>0</td>\n",
       "      <td>0</td>\n",
       "      <td>40</td>\n",
       "      <td>United-States</td>\n",
       "      <td>&lt;=50K</td>\n",
       "    </tr>\n",
       "    <tr>\n",
       "      <th>4</th>\n",
       "      <td>28</td>\n",
       "      <td>Private</td>\n",
       "      <td>338409</td>\n",
       "      <td>Bachelors</td>\n",
       "      <td>13</td>\n",
       "      <td>Married-civ-spouse</td>\n",
       "      <td>Prof-specialty</td>\n",
       "      <td>Wife</td>\n",
       "      <td>Black</td>\n",
       "      <td>Female</td>\n",
       "      <td>0</td>\n",
       "      <td>0</td>\n",
       "      <td>40</td>\n",
       "      <td>Cuba</td>\n",
       "      <td>&lt;=50K</td>\n",
       "    </tr>\n",
       "  </tbody>\n",
       "</table>\n",
       "</div>"
      ],
      "text/plain": [
       "   age          workclass  final-weight   education  education-num  \\\n",
       "0   39          State-gov         77516   Bachelors             13   \n",
       "1   50   Self-emp-not-inc         83311   Bachelors             13   \n",
       "2   38            Private        215646     HS-grad              9   \n",
       "3   53            Private        234721        11th              7   \n",
       "4   28            Private        338409   Bachelors             13   \n",
       "\n",
       "        marital-status          occupation    relationship    race      sex  \\\n",
       "0        Never-married        Adm-clerical   Not-in-family   White     Male   \n",
       "1   Married-civ-spouse     Exec-managerial         Husband   White     Male   \n",
       "2             Divorced   Handlers-cleaners   Not-in-family   White     Male   \n",
       "3   Married-civ-spouse   Handlers-cleaners         Husband   Black     Male   \n",
       "4   Married-civ-spouse      Prof-specialty            Wife   Black   Female   \n",
       "\n",
       "   capital-gain  capital-loos  hour-per-week  native-country  income  \n",
       "0          2174             0             40   United-States   <=50K  \n",
       "1             0             0             13   United-States   <=50K  \n",
       "2             0             0             40   United-States   <=50K  \n",
       "3             0             0             40   United-States   <=50K  \n",
       "4             0             0             40            Cuba   <=50K  "
      ]
     },
     "execution_count": 1,
     "metadata": {},
     "output_type": "execute_result"
    }
   ],
   "source": [
    "import pandas as pd\n",
    " \n",
    "db = pd.read_csv('census.csv')\n",
    "db.head()"
   ]
  },
  {
   "cell_type": "code",
   "execution_count": 2,
   "metadata": {},
   "outputs": [],
   "source": [
    "X = db.iloc[:, 0:14].values\n",
    "y = db.iloc[:, 14].values"
   ]
  },
  {
   "cell_type": "code",
   "execution_count": 3,
   "metadata": {},
   "outputs": [],
   "source": [
    "from sklearn.preprocessing import OneHotEncoder, LabelEncoder\n",
    "from sklearn.compose import ColumnTransformer\n",
    " \n",
    "#create dummies\n",
    "onehotencorder = ColumnTransformer(transformers=[(\"OneHot\", OneHotEncoder(), [1,3,5,6,7,8,9,13])],remainder='passthrough')\n",
    "X = onehotencorder.fit_transform(X).toarray()"
   ]
  },
  {
   "cell_type": "code",
   "execution_count": 4,
   "metadata": {},
   "outputs": [],
   "source": [
    "#encoder\n",
    "labelencoder_y = LabelEncoder()\n",
    "y = labelencoder_y.fit_transform(y)"
   ]
  },
  {
   "cell_type": "code",
   "execution_count": 5,
   "metadata": {},
   "outputs": [],
   "source": [
    "#scale -> not work so well in this exemple\n",
    "from sklearn.preprocessing import StandardScaler\n",
    "scaler = StandardScaler()\n",
    "X = scaler.fit_transform(X)"
   ]
  },
  {
   "cell_type": "code",
   "execution_count": 6,
   "metadata": {},
   "outputs": [],
   "source": [
    "#split\n",
    "from sklearn.model_selection import train_test_split\n",
    "X_train, X_test, y_train, y_test = train_test_split(X, y, test_size=0.15, random_state=0)"
   ]
  },
  {
   "cell_type": "markdown",
   "metadata": {},
   "source": [
    "# Naive Bayes"
   ]
  },
  {
   "cell_type": "code",
   "execution_count": 7,
   "metadata": {},
   "outputs": [],
   "source": [
    "#train and test\n",
    "from sklearn.naive_bayes import GaussianNB\n",
    "clf_Naive_Bayes = GaussianNB()\n",
    "clf_Naive_Bayes.fit(X_train, y_train)\n",
    "predict_Naive_Bayes = clf_Naive_Bayes.predict(X_test)"
   ]
  },
  {
   "cell_type": "code",
   "execution_count": 8,
   "metadata": {},
   "outputs": [
    {
     "name": "stdout",
     "output_type": "stream",
     "text": [
      "0.4767656090071648\n"
     ]
    }
   ],
   "source": [
    "#metrics\n",
    "from sklearn.metrics import confusion_matrix, accuracy_score\n",
    "accuracy = accuracy_score(y_test, predict_Naive_Bayes)\n",
    "print(accuracy)"
   ]
  },
  {
   "cell_type": "code",
   "execution_count": 9,
   "metadata": {},
   "outputs": [
    {
     "name": "stdout",
     "output_type": "stream",
     "text": [
      "[[1172 2521]\n",
      " [  35 1157]]\n"
     ]
    }
   ],
   "source": [
    "matrix = confusion_matrix(y_test, predict_Naive_Bayes)\n",
    "print(matrix)"
   ]
  },
  {
   "cell_type": "markdown",
   "metadata": {},
   "source": [
    "# Decision Tree"
   ]
  },
  {
   "cell_type": "code",
   "execution_count": 10,
   "metadata": {},
   "outputs": [],
   "source": [
    "from sklearn.tree import DecisionTreeClassifier\n",
    "clf_Desicion_Tree = DecisionTreeClassifier(criterion='entropy', random_state=0)\n",
    "clf_Desicion_Tree.fit(X_train, y_train)\n",
    "predict_Desicion_Tree = clf_Desicion_Tree.predict(X_test)\n",
    "\n",
    "#print(clf_Desicion_Tree.feature_importances_)"
   ]
  },
  {
   "cell_type": "code",
   "execution_count": 11,
   "metadata": {},
   "outputs": [
    {
     "name": "stdout",
     "output_type": "stream",
     "text": [
      "Accuracy: 0.8104401228249745\n",
      "Confusion Matrix:\n",
      " [[3227  466]\n",
      " [ 460  732]]\n"
     ]
    }
   ],
   "source": [
    "#metrics\n",
    "from sklearn.metrics import confusion_matrix, accuracy_score\n",
    "accuracy = accuracy_score(y_test, predict_Desicion_Tree)\n",
    "print('Accuracy:', accuracy)\n",
    "\n",
    "matrix = confusion_matrix(y_test, predict_Desicion_Tree)\n",
    "print('Confusion Matrix:\\n', matrix)"
   ]
  },
  {
   "cell_type": "markdown",
   "metadata": {},
   "source": [
    "# Random Forest"
   ]
  },
  {
   "cell_type": "code",
   "execution_count": 12,
   "metadata": {},
   "outputs": [],
   "source": [
    "from sklearn.ensemble import RandomForestClassifier\n",
    "clf_RandomForest = RandomForestClassifier(n_estimators=40, criterion='entropy', random_state=0)\n",
    "clf_RandomForest.fit(X_train, y_train)\n",
    "predict_RandomForest = clf_RandomForest.predict(X_test)"
   ]
  },
  {
   "cell_type": "code",
   "execution_count": 13,
   "metadata": {},
   "outputs": [
    {
     "name": "stdout",
     "output_type": "stream",
     "text": [
      "Accuracy: 0.847697031729785\n",
      "Confusion Matrix:\n",
      " [[3418  275]\n",
      " [ 469  723]]\n"
     ]
    }
   ],
   "source": [
    "#metrics\n",
    "from sklearn.metrics import confusion_matrix, accuracy_score\n",
    "accuracy = accuracy_score(y_test, predict_RandomForest)\n",
    "print('Accuracy:', accuracy)\n",
    "\n",
    "matrix = confusion_matrix(y_test, predict_RandomForest)\n",
    "print('Confusion Matrix:\\n', matrix)"
   ]
  },
  {
   "cell_type": "markdown",
   "metadata": {},
   "source": [
    "# kNN"
   ]
  },
  {
   "cell_type": "code",
   "execution_count": 14,
   "metadata": {},
   "outputs": [],
   "source": [
    "from sklearn.neighbors import KNeighborsClassifier\n",
    "clf_knn = KNeighborsClassifier(n_neighbors=5, metric='minkowski', p = 2)\n",
    "clf_knn.fit(X_train, y_train)\n",
    "predict_knn = clf_knn.predict(X_test)"
   ]
  },
  {
   "cell_type": "code",
   "execution_count": 15,
   "metadata": {},
   "outputs": [
    {
     "name": "stdout",
     "output_type": "stream",
     "text": [
      "Accuracy: 0.8223132036847492\n",
      "Confusion Matrix:\n",
      " [[3336  357]\n",
      " [ 511  681]]\n"
     ]
    }
   ],
   "source": [
    "#metrics\n",
    "from sklearn.metrics import confusion_matrix, accuracy_score\n",
    "accuracy = accuracy_score(y_test, predict_knn)\n",
    "print('Accuracy:', accuracy)\n",
    "\n",
    "matrix = confusion_matrix(y_test, predict_knn)\n",
    "print('Confusion Matrix:\\n', matrix)"
   ]
  },
  {
   "cell_type": "markdown",
   "metadata": {},
   "source": [
    "# Logistic Regression"
   ]
  },
  {
   "cell_type": "code",
   "execution_count": 17,
   "metadata": {},
   "outputs": [],
   "source": [
    "from sklearn.linear_model import LogisticRegression\n",
    "clf_LogisticRegression = LogisticRegression(random_state = 1, solver='lbfgs')\n",
    "clf_LogisticRegression.fit(X_train, y_train)\n",
    "predict_LogisticRegression = clf_LogisticRegression.predict(X_test)"
   ]
  },
  {
   "cell_type": "code",
   "execution_count": 18,
   "metadata": {},
   "outputs": [
    {
     "name": "stdout",
     "output_type": "stream",
     "text": [
      "Accuracy: 0.849539406345957\n",
      "Confusion Matrix:\n",
      " [[3423  270]\n",
      " [ 465  727]]\n"
     ]
    }
   ],
   "source": [
    "#metrics \n",
    "from sklearn.metrics import confusion_matrix, accuracy_score\n",
    "accuracy = accuracy_score(y_test, predict_LogisticRegression)\n",
    "print('Accuracy:', accuracy)\n",
    "\n",
    "matrix = confusion_matrix(y_test, predict_LogisticRegression)\n",
    "print('Confusion Matrix:\\n', matrix)"
   ]
  },
  {
   "cell_type": "markdown",
   "metadata": {},
   "source": [
    "# SVM"
   ]
  },
  {
   "cell_type": "code",
   "execution_count": 22,
   "metadata": {},
   "outputs": [],
   "source": [
    "from sklearn.svm import SVC\n",
    "clf_svm = SVC(kernel = 'rbf', random_state = 1, C = 2.0, gamma='auto')\n",
    "clf_svm.fit(X_train, y_train)\n",
    "predict_svm = clf_svm.predict(X_test)"
   ]
  },
  {
   "cell_type": "code",
   "execution_count": 20,
   "metadata": {},
   "outputs": [
    {
     "name": "stdout",
     "output_type": "stream",
     "text": [
      "Accuracy: 0.8485158648925282\n",
      "Confusion Matrix:\n",
      " [[3457  236]\n",
      " [ 504  688]]\n"
     ]
    }
   ],
   "source": [
    "#metrics \n",
    "from sklearn.metrics import confusion_matrix, accuracy_score\n",
    "accuracy = accuracy_score(y_test, predict_svm)\n",
    "print('Accuracy:', accuracy)\n",
    "\n",
    "matrix = confusion_matrix(y_test, predict_svm)\n",
    "print('Confusion Matrix:\\n', matrix)"
   ]
  },
  {
   "cell_type": "markdown",
   "metadata": {},
   "source": [
    "# Neural Network"
   ]
  },
  {
   "cell_type": "code",
   "execution_count": 27,
   "metadata": {},
   "outputs": [],
   "source": [
    "from sklearn.neural_network import MLPClassifier\n",
    "clf_nn = MLPClassifier(verbose=False,\n",
    "                       solver='adam',\n",
    "                       hidden_layer_sizes=(100,),\n",
    "                       max_iter=1000,\n",
    "                       activation='relu'\n",
    "                      )\n",
    "clf_nn.fit(X_train, y_train)\n",
    "predict_nn = clf_nn.predict(X_test)"
   ]
  },
  {
   "cell_type": "code",
   "execution_count": 28,
   "metadata": {},
   "outputs": [
    {
     "name": "stdout",
     "output_type": "stream",
     "text": [
      "Accuracy: 0.8239508700102354\n",
      "Confusion Matrix:\n",
      " [[3284  409]\n",
      " [ 451  741]]\n"
     ]
    }
   ],
   "source": [
    "#metrics \n",
    "from sklearn.metrics import confusion_matrix, accuracy_score\n",
    "accuracy = accuracy_score(y_test, predict_nn)\n",
    "print('Accuracy:', accuracy)\n",
    "\n",
    "matrix = confusion_matrix(y_test, predict_nn)\n",
    "print('Confusion Matrix:\\n', matrix)"
   ]
  },
  {
   "cell_type": "markdown",
   "metadata": {},
   "source": [
    "# Neural Network - Keras"
   ]
  },
  {
   "cell_type": "code",
   "execution_count": 30,
   "metadata": {},
   "outputs": [],
   "source": [
    "import keras"
   ]
  },
  {
   "cell_type": "code",
   "execution_count": 33,
   "metadata": {},
   "outputs": [
    {
     "name": "stdout",
     "output_type": "stream",
     "text": [
      "Epoch 1/100\n",
      "27676/27676 [==============================] - 6s 226us/step - loss: 0.3423 - acc: 0.8416\n",
      "Epoch 2/100\n",
      "27676/27676 [==============================] - 5s 182us/step - loss: 0.3132 - acc: 0.8547\n",
      "Epoch 3/100\n",
      "27676/27676 [==============================] - 5s 169us/step - loss: 0.3056 - acc: 0.8571\n",
      "Epoch 4/100\n",
      "27676/27676 [==============================] - 7s 243us/step - loss: 0.3005 - acc: 0.8605\n",
      "Epoch 5/100\n",
      "27676/27676 [==============================] - 5s 182us/step - loss: 0.2959 - acc: 0.8626\n",
      "Epoch 6/100\n",
      "27676/27676 [==============================] - 6s 199us/step - loss: 0.2925 - acc: 0.8635\n",
      "Epoch 7/100\n",
      "27676/27676 [==============================] - 6s 223us/step - loss: 0.2890 - acc: 0.8654\n",
      "Epoch 8/100\n",
      "27676/27676 [==============================] - 7s 249us/step - loss: 0.2853 - acc: 0.8680\n",
      "Epoch 9/100\n",
      "27676/27676 [==============================] - 5s 170us/step - loss: 0.2820 - acc: 0.8689\n",
      "Epoch 10/100\n",
      "27676/27676 [==============================] - 5s 171us/step - loss: 0.2785 - acc: 0.8718\n",
      "Epoch 11/100\n",
      "27676/27676 [==============================] - 5s 168us/step - loss: 0.2739 - acc: 0.8726\n",
      "Epoch 12/100\n",
      "27676/27676 [==============================] - 5s 171us/step - loss: 0.2708 - acc: 0.8736\n",
      "Epoch 13/100\n",
      "27676/27676 [==============================] - 5s 168us/step - loss: 0.2675 - acc: 0.8759\n",
      "Epoch 14/100\n",
      "27676/27676 [==============================] - 5s 175us/step - loss: 0.2637 - acc: 0.8780\n",
      "Epoch 15/100\n",
      "27676/27676 [==============================] - 5s 175us/step - loss: 0.2593 - acc: 0.8796\n",
      "Epoch 16/100\n",
      "27676/27676 [==============================] - 5s 178us/step - loss: 0.2567 - acc: 0.8798 0s - loss: 0.2563 -\n",
      "Epoch 17/100\n",
      "27676/27676 [==============================] - 5s 178us/step - loss: 0.2538 - acc: 0.8821\n",
      "Epoch 18/100\n",
      "27676/27676 [==============================] - 5s 173us/step - loss: 0.2504 - acc: 0.8828\n",
      "Epoch 19/100\n",
      "27676/27676 [==============================] - 5s 174us/step - loss: 0.2466 - acc: 0.8860\n",
      "Epoch 20/100\n",
      "27676/27676 [==============================] - 5s 170us/step - loss: 0.2439 - acc: 0.8866\n",
      "Epoch 21/100\n",
      "27676/27676 [==============================] - 5s 175us/step - loss: 0.2411 - acc: 0.8878\n",
      "Epoch 22/100\n",
      "27676/27676 [==============================] - 5s 169us/step - loss: 0.2378 - acc: 0.8887\n",
      "Epoch 23/100\n",
      "27676/27676 [==============================] - 5s 190us/step - loss: 0.2357 - acc: 0.8908\n",
      "Epoch 24/100\n",
      "27676/27676 [==============================] - 5s 188us/step - loss: 0.2332 - acc: 0.8905\n",
      "Epoch 25/100\n",
      "27676/27676 [==============================] - 5s 176us/step - loss: 0.2311 - acc: 0.8911\n",
      "Epoch 26/100\n",
      "27676/27676 [==============================] - 6s 206us/step - loss: 0.2273 - acc: 0.8943\n",
      "Epoch 27/100\n",
      "27676/27676 [==============================] - 7s 247us/step - loss: 0.2278 - acc: 0.8941\n",
      "Epoch 28/100\n",
      "27676/27676 [==============================] - 6s 213us/step - loss: 0.2238 - acc: 0.8944\n",
      "Epoch 29/100\n",
      "27676/27676 [==============================] - 6s 224us/step - loss: 0.2216 - acc: 0.8966\n",
      "Epoch 30/100\n",
      "27676/27676 [==============================] - 6s 204us/step - loss: 0.2194 - acc: 0.8980\n",
      "Epoch 31/100\n",
      "27676/27676 [==============================] - 5s 188us/step - loss: 0.2175 - acc: 0.8991\n",
      "Epoch 32/100\n",
      "27676/27676 [==============================] - 5s 186us/step - loss: 0.2157 - acc: 0.8981\n",
      "Epoch 33/100\n",
      "27676/27676 [==============================] - 5s 178us/step - loss: 0.2145 - acc: 0.8997\n",
      "Epoch 34/100\n",
      "27676/27676 [==============================] - 5s 170us/step - loss: 0.2110 - acc: 0.9018\n",
      "Epoch 35/100\n",
      "27676/27676 [==============================] - 5s 176us/step - loss: 0.2107 - acc: 0.9016\n",
      "Epoch 36/100\n",
      "27676/27676 [==============================] - 5s 171us/step - loss: 0.2084 - acc: 0.9034\n",
      "Epoch 37/100\n",
      "27676/27676 [==============================] - 5s 179us/step - loss: 0.2062 - acc: 0.9038\n",
      "Epoch 38/100\n",
      "27676/27676 [==============================] - 5s 169us/step - loss: 0.2070 - acc: 0.9048\n",
      "Epoch 39/100\n",
      "27676/27676 [==============================] - 5s 198us/step - loss: 0.2033 - acc: 0.9053\n",
      "Epoch 40/100\n",
      "27676/27676 [==============================] - 11s 406us/step - loss: 0.2034 - acc: 0.90491s -\n",
      "Epoch 41/100\n",
      "27676/27676 [==============================] - 12s 435us/step - loss: 0.2011 - acc: 0.9054\n",
      "Epoch 42/100\n",
      "27676/27676 [==============================] - 12s 417us/step - loss: 0.2009 - acc: 0.9067\n",
      "Epoch 43/100\n",
      "27676/27676 [==============================] - 11s 402us/step - loss: 0.1983 - acc: 0.9079\n",
      "Epoch 44/100\n",
      "27676/27676 [==============================] - 12s 434us/step - loss: 0.1980 - acc: 0.9076\n",
      "Epoch 45/100\n",
      "27676/27676 [==============================] - 14s 509us/step - loss: 0.1956 - acc: 0.9089\n",
      "Epoch 46/100\n",
      "27676/27676 [==============================] - 13s 463us/step - loss: 0.1932 - acc: 0.9093\n",
      "Epoch 47/100\n",
      "27676/27676 [==============================] - 13s 479us/step - loss: 0.1935 - acc: 0.9102\n",
      "Epoch 48/100\n",
      "27676/27676 [==============================] - 13s 471us/step - loss: 0.1921 - acc: 0.91042s -  - ETA: 0s - loss: 0\n",
      "Epoch 49/100\n",
      "27676/27676 [==============================] - 13s 486us/step - loss: 0.1921 - acc: 0.9113\n",
      "Epoch 50/100\n",
      "27676/27676 [==============================] - 11s 406us/step - loss: 0.1896 - acc: 0.9118\n",
      "Epoch 51/100\n",
      "27676/27676 [==============================] - 11s 402us/step - loss: 0.1881 - acc: 0.9114\n",
      "Epoch 52/100\n",
      "27676/27676 [==============================] - 12s 423us/step - loss: 0.1879 - acc: 0.9117\n",
      "Epoch 53/100\n",
      "27676/27676 [==============================] - 12s 448us/step - loss: 0.1879 - acc: 0.9123\n",
      "Epoch 54/100\n",
      "27676/27676 [==============================] - 13s 478us/step - loss: 0.1856 - acc: 0.9130\n",
      "Epoch 55/100\n",
      "27676/27676 [==============================] - 10s 353us/step - loss: 0.1852 - acc: 0.9133\n",
      "Epoch 56/100\n",
      "27676/27676 [==============================] - 7s 246us/step - loss: 0.1854 - acc: 0.9137\n",
      "Epoch 57/100\n",
      "27676/27676 [==============================] - 6s 223us/step - loss: 0.1842 - acc: 0.9136\n",
      "Epoch 58/100\n",
      "27676/27676 [==============================] - 7s 254us/step - loss: 0.1830 - acc: 0.9149\n",
      "Epoch 59/100\n",
      "27676/27676 [==============================] - 9s 328us/step - loss: 0.1801 - acc: 0.9155\n",
      "Epoch 60/100\n",
      "27676/27676 [==============================] - 8s 281us/step - loss: 0.1799 - acc: 0.9162\n",
      "Epoch 61/100\n",
      "27676/27676 [==============================] - 7s 261us/step - loss: 0.1791 - acc: 0.9154\n",
      "Epoch 62/100\n",
      "27676/27676 [==============================] - 6s 201us/step - loss: 0.1780 - acc: 0.9158\n",
      "Epoch 63/100\n",
      "27676/27676 [==============================] - 6s 204us/step - loss: 0.1774 - acc: 0.9183\n",
      "Epoch 64/100\n",
      "27676/27676 [==============================] - 7s 241us/step - loss: 0.1764 - acc: 0.9178\n",
      "Epoch 65/100\n",
      "27676/27676 [==============================] - 6s 206us/step - loss: 0.1767 - acc: 0.9188\n",
      "Epoch 66/100\n",
      "27676/27676 [==============================] - 6s 202us/step - loss: 0.1761 - acc: 0.9182\n",
      "Epoch 67/100\n",
      "27676/27676 [==============================] - 7s 251us/step - loss: 0.1746 - acc: 0.9188\n",
      "Epoch 68/100\n",
      "27676/27676 [==============================] - 7s 250us/step - loss: 0.1726 - acc: 0.9190\n",
      "Epoch 69/100\n",
      "27676/27676 [==============================] - 9s 332us/step - loss: 0.1724 - acc: 0.9191\n",
      "Epoch 70/100\n",
      "27676/27676 [==============================] - 9s 311us/step - loss: 0.1725 - acc: 0.9210\n",
      "Epoch 71/100\n",
      "27676/27676 [==============================] - 6s 216us/step - loss: 0.1720 - acc: 0.9199\n",
      "Epoch 72/100\n",
      "27676/27676 [==============================] - 9s 339us/step - loss: 0.1725 - acc: 0.9199\n",
      "Epoch 73/100\n",
      "27676/27676 [==============================] - 10s 355us/step - loss: 0.1708 - acc: 0.9203\n",
      "Epoch 74/100\n",
      "27676/27676 [==============================] - 14s 490us/step - loss: 0.1687 - acc: 0.9210\n",
      "Epoch 75/100\n",
      "27676/27676 [==============================] - 11s 407us/step - loss: 0.1690 - acc: 0.9204\n",
      "Epoch 76/100\n",
      "27676/27676 [==============================] - 9s 339us/step - loss: 0.1680 - acc: 0.9208\n",
      "Epoch 77/100\n",
      "27676/27676 [==============================] - 10s 360us/step - loss: 0.1663 - acc: 0.9214\n",
      "Epoch 78/100\n",
      "27676/27676 [==============================] - 10s 374us/step - loss: 0.1678 - acc: 0.9226\n",
      "Epoch 79/100\n"
     ]
    },
    {
     "name": "stdout",
     "output_type": "stream",
     "text": [
      "27676/27676 [==============================] - 11s 407us/step - loss: 0.1646 - acc: 0.9227\n",
      "Epoch 80/100\n",
      "27676/27676 [==============================] - 9s 317us/step - loss: 0.1653 - acc: 0.9215\n",
      "Epoch 81/100\n",
      "27676/27676 [==============================] - 8s 289us/step - loss: 0.1636 - acc: 0.9231\n",
      "Epoch 82/100\n",
      "27676/27676 [==============================] - 8s 285us/step - loss: 0.1652 - acc: 0.9239\n",
      "Epoch 83/100\n",
      "27676/27676 [==============================] - 8s 276us/step - loss: 0.1632 - acc: 0.9241\n",
      "Epoch 84/100\n",
      "27676/27676 [==============================] - 8s 297us/step - loss: 0.1637 - acc: 0.9237\n",
      "Epoch 85/100\n",
      "27676/27676 [==============================] - 9s 310us/step - loss: 0.1610 - acc: 0.9244\n",
      "Epoch 86/100\n",
      "27676/27676 [==============================] - 8s 279us/step - loss: 0.1626 - acc: 0.9242\n",
      "Epoch 87/100\n",
      "27676/27676 [==============================] - 6s 204us/step - loss: 0.1607 - acc: 0.9266 3s - los\n",
      "Epoch 88/100\n",
      "27676/27676 [==============================] - 6s 205us/step - loss: 0.1599 - acc: 0.9265\n",
      "Epoch 89/100\n",
      "27676/27676 [==============================] - 5s 195us/step - loss: 0.1585 - acc: 0.9254\n",
      "Epoch 90/100\n",
      "27676/27676 [==============================] - 5s 192us/step - loss: 0.1592 - acc: 0.9267\n",
      "Epoch 91/100\n",
      "27676/27676 [==============================] - 6s 205us/step - loss: 0.1588 - acc: 0.9267\n",
      "Epoch 92/100\n",
      "27676/27676 [==============================] - 5s 199us/step - loss: 0.1587 - acc: 0.9266\n",
      "Epoch 93/100\n",
      "27676/27676 [==============================] - 6s 222us/step - loss: 0.1593 - acc: 0.9272\n",
      "Epoch 94/100\n",
      "27676/27676 [==============================] - 9s 312us/step - loss: 0.1580 - acc: 0.9275\n",
      "Epoch 95/100\n",
      "27676/27676 [==============================] - 14s 501us/step - loss: 0.1553 - acc: 0.9273\n",
      "Epoch 96/100\n",
      "27676/27676 [==============================] - 12s 419us/step - loss: 0.1567 - acc: 0.9257\n",
      "Epoch 97/100\n",
      "27676/27676 [==============================] - 9s 323us/step - loss: 0.1549 - acc: 0.9273\n",
      "Epoch 98/100\n",
      "27676/27676 [==============================] - 11s 389us/step - loss: 0.1560 - acc: 0.9269\n",
      "Epoch 99/100\n",
      "27676/27676 [==============================] - 8s 287us/step - loss: 0.1560 - acc: 0.9269\n",
      "Epoch 100/100\n",
      "27676/27676 [==============================] - 8s 287us/step - loss: 0.1537 - acc: 0.9286\n"
     ]
    },
    {
     "data": {
      "text/plain": [
       "<keras.callbacks.History at 0x17505ad8f60>"
      ]
     },
     "execution_count": 33,
     "metadata": {},
     "output_type": "execute_result"
    }
   ],
   "source": [
    "from keras.models import Sequential\n",
    "from keras.layers import Dense\n",
    "\n",
    "clf_keras = Sequential()\n",
    "clf_keras.add(Dense(units=55, activation='relu',input_dim=108))\n",
    "clf_keras.add(Dense(units=55, activation='relu'))\n",
    "clf_keras.add(Dense(units=1, activation='sigmoid'))\n",
    "clf_keras.compile(optimizer='adam', loss='binary_crossentropy', metrics = ['accuracy'])\n",
    "clf_keras.fit(X_train, y_train, batch_size=10, epochs=100)"
   ]
  },
  {
   "cell_type": "code",
   "execution_count": 34,
   "metadata": {},
   "outputs": [],
   "source": [
    "predict_keras = clf_keras.predict(X_test)\n",
    "predict_keras = (predict_keras > 0.5)"
   ]
  },
  {
   "cell_type": "code",
   "execution_count": 35,
   "metadata": {},
   "outputs": [
    {
     "name": "stdout",
     "output_type": "stream",
     "text": [
      "Accuracy: 0.8257932446264074\n",
      "Confusion Matrix:\n",
      " [[3257  436]\n",
      " [ 415  777]]\n"
     ]
    }
   ],
   "source": [
    "#metrics \n",
    "from sklearn.metrics import confusion_matrix, accuracy_score\n",
    "accuracy = accuracy_score(y_test, predict_keras)\n",
    "print('Accuracy:', accuracy)\n",
    "\n",
    "matrix = confusion_matrix(y_test, predict_keras)\n",
    "print('Confusion Matrix:\\n', matrix)"
   ]
  },
  {
   "cell_type": "code",
   "execution_count": null,
   "metadata": {},
   "outputs": [],
   "source": []
  }
 ],
 "metadata": {
  "kernelspec": {
   "display_name": "Python 3",
   "language": "python",
   "name": "python3"
  },
  "language_info": {
   "codemirror_mode": {
    "name": "ipython",
    "version": 3
   },
   "file_extension": ".py",
   "mimetype": "text/x-python",
   "name": "python",
   "nbconvert_exporter": "python",
   "pygments_lexer": "ipython3",
   "version": "3.7.3"
  }
 },
 "nbformat": 4,
 "nbformat_minor": 4
}
