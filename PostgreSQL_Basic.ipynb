{
 "cells": [
  {
   "cell_type": "code",
   "execution_count": 31,
   "metadata": {},
   "outputs": [
    {
     "name": "stdout",
     "output_type": "stream",
     "text": [
      "[(1, 'Rio de Janeiro', 'RJ'), (2, 'Floripa', 'SC')]\n"
     ]
    }
   ],
   "source": [
    "import psycopg2\n",
    "con = psycopg2.connect(\n",
    "    host='localhost', \n",
    "    database='cidades',\n",
    "    user='postgres', \n",
    "    password='admin')\n",
    "\n",
    "cur = con.cursor()\n",
    "\n",
    "nome = 'Rio de Janeiro'\n",
    "uf = 'RJ'\n",
    "\n",
    "cur.execute('''\n",
    "            DROP TABLE cidades\n",
    "            ''')\n",
    "\n",
    "cur.execute('''\n",
    "            CREATE TABLE cidades (id SERIAL PRIMARY KEY , nome VARCHAR(100), uf VARCHAR(2))\n",
    "            ''')\n",
    "# 1st\n",
    "cur.execute('''\n",
    "            INSERT INTO cidades (nome,uf) VALUES ('{}','{}')\n",
    "            '''.format(nome, uf))\n",
    "# 2nd \n",
    "sql = \"INSERT INTO cidades (nome, uf) VALUES (%s, %s)\"\n",
    "val = (\"Floripa\", \"SC\")\n",
    "cur.execute(sql, val)\n",
    "\n",
    "con.commit()\n",
    "\n",
    "cur.execute('''\n",
    "            SELECT * FROM cidades\n",
    "            ''')\n",
    "\n",
    "recset = cur.fetchall()\n",
    "print (recset)\n",
    "con.close()"
   ]
  },
  {
   "cell_type": "code",
   "execution_count": 32,
   "metadata": {},
   "outputs": [
    {
     "data": {
      "text/html": [
       "<div>\n",
       "<style scoped>\n",
       "    .dataframe tbody tr th:only-of-type {\n",
       "        vertical-align: middle;\n",
       "    }\n",
       "\n",
       "    .dataframe tbody tr th {\n",
       "        vertical-align: top;\n",
       "    }\n",
       "\n",
       "    .dataframe thead th {\n",
       "        text-align: right;\n",
       "    }\n",
       "</style>\n",
       "<table border=\"1\" class=\"dataframe\">\n",
       "  <thead>\n",
       "    <tr style=\"text-align: right;\">\n",
       "      <th></th>\n",
       "      <th>0</th>\n",
       "      <th>1</th>\n",
       "      <th>2</th>\n",
       "    </tr>\n",
       "  </thead>\n",
       "  <tbody>\n",
       "    <tr>\n",
       "      <th>0</th>\n",
       "      <td>1</td>\n",
       "      <td>Rio de Janeiro</td>\n",
       "      <td>RJ</td>\n",
       "    </tr>\n",
       "    <tr>\n",
       "      <th>1</th>\n",
       "      <td>2</td>\n",
       "      <td>Floripa</td>\n",
       "      <td>SC</td>\n",
       "    </tr>\n",
       "  </tbody>\n",
       "</table>\n",
       "</div>"
      ],
      "text/plain": [
       "   0               1   2\n",
       "0  1  Rio de Janeiro  RJ\n",
       "1  2         Floripa  SC"
      ]
     },
     "execution_count": 32,
     "metadata": {},
     "output_type": "execute_result"
    }
   ],
   "source": [
    "import pandas as pd\n",
    "db = pd.DataFrame(recset)\n",
    "db"
   ]
  },
  {
   "cell_type": "code",
   "execution_count": null,
   "metadata": {},
   "outputs": [],
   "source": []
  }
 ],
 "metadata": {
  "kernelspec": {
   "display_name": "Python 3",
   "language": "python",
   "name": "python3"
  },
  "language_info": {
   "codemirror_mode": {
    "name": "ipython",
    "version": 3
   },
   "file_extension": ".py",
   "mimetype": "text/x-python",
   "name": "python",
   "nbconvert_exporter": "python",
   "pygments_lexer": "ipython3",
   "version": "3.7.3"
  }
 },
 "nbformat": 4,
 "nbformat_minor": 4
}
